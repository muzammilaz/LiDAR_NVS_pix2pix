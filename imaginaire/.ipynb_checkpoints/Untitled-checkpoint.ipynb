{
 "cells": [
  {
   "cell_type": "code",
   "execution_count": 3,
   "id": "3b06233c-2cca-4db3-9ace-03641d8e8bd4",
   "metadata": {
    "tags": []
   },
   "outputs": [],
   "source": [
    "import torch"
   ]
  },
  {
   "cell_type": "code",
   "execution_count": 8,
   "id": "b2967093-bd1b-4e50-aa37-8466afca5f1c",
   "metadata": {
    "tags": []
   },
   "outputs": [],
   "source": [
    "checkpoint_path = 'logs/2024_0722_0109_29_base128_bs4_lmdb/epoch_00015_iteration_000016000_checkpoint.pt'"
   ]
  },
  {
   "cell_type": "code",
   "execution_count": null,
   "id": "24c3efa9-8e51-43cd-8356-9d13076dee86",
   "metadata": {
    "tags": []
   },
   "outputs": [],
   "source": [
    "checkpoint = torch.load(\n",
    "            checkpoint_path, map_location=lambda storage, loc: storage)"
   ]
  },
  {
   "cell_type": "code",
   "execution_count": 7,
   "id": "e387e2ba-03b9-409d-9380-1b0b9185923f",
   "metadata": {
    "tags": []
   },
   "outputs": [
    {
     "ename": "KeyboardInterrupt",
     "evalue": "",
     "output_type": "error",
     "traceback": [
      "\u001b[0;31m---------------------------------------------------------------------------\u001b[0m",
      "\u001b[0;31mKeyboardInterrupt\u001b[0m                         Traceback (most recent call last)",
      "Cell \u001b[0;32mIn[7], line 1\u001b[0m\n\u001b[0;32m----> 1\u001b[0m ckpt\n",
      "File \u001b[0;32m/home/woody/i9vl/i9vl106h/software/privat/conda/envs/imaginaire/lib/python3.8/site-packages/IPython/core/displayhook.py:268\u001b[0m, in \u001b[0;36mDisplayHook.__call__\u001b[0;34m(self, result)\u001b[0m\n\u001b[1;32m    266\u001b[0m \u001b[38;5;28mself\u001b[39m\u001b[38;5;241m.\u001b[39mstart_displayhook()\n\u001b[1;32m    267\u001b[0m \u001b[38;5;28mself\u001b[39m\u001b[38;5;241m.\u001b[39mwrite_output_prompt()\n\u001b[0;32m--> 268\u001b[0m format_dict, md_dict \u001b[38;5;241m=\u001b[39m \u001b[38;5;28;43mself\u001b[39;49m\u001b[38;5;241;43m.\u001b[39;49m\u001b[43mcompute_format_data\u001b[49m\u001b[43m(\u001b[49m\u001b[43mresult\u001b[49m\u001b[43m)\u001b[49m\n\u001b[1;32m    269\u001b[0m \u001b[38;5;28mself\u001b[39m\u001b[38;5;241m.\u001b[39mupdate_user_ns(result)\n\u001b[1;32m    270\u001b[0m \u001b[38;5;28mself\u001b[39m\u001b[38;5;241m.\u001b[39mfill_exec_result(result)\n",
      "File \u001b[0;32m/home/woody/i9vl/i9vl106h/software/privat/conda/envs/imaginaire/lib/python3.8/site-packages/IPython/core/displayhook.py:157\u001b[0m, in \u001b[0;36mDisplayHook.compute_format_data\u001b[0;34m(self, result)\u001b[0m\n\u001b[1;32m    127\u001b[0m \u001b[38;5;28;01mdef\u001b[39;00m \u001b[38;5;21mcompute_format_data\u001b[39m(\u001b[38;5;28mself\u001b[39m, result):\n\u001b[1;32m    128\u001b[0m \u001b[38;5;250m    \u001b[39m\u001b[38;5;124;03m\"\"\"Compute format data of the object to be displayed.\u001b[39;00m\n\u001b[1;32m    129\u001b[0m \n\u001b[1;32m    130\u001b[0m \u001b[38;5;124;03m    The format data is a generalization of the :func:`repr` of an object.\u001b[39;00m\n\u001b[0;32m   (...)\u001b[0m\n\u001b[1;32m    155\u001b[0m \n\u001b[1;32m    156\u001b[0m \u001b[38;5;124;03m    \"\"\"\u001b[39;00m\n\u001b[0;32m--> 157\u001b[0m     \u001b[38;5;28;01mreturn\u001b[39;00m \u001b[38;5;28;43mself\u001b[39;49m\u001b[38;5;241;43m.\u001b[39;49m\u001b[43mshell\u001b[49m\u001b[38;5;241;43m.\u001b[39;49m\u001b[43mdisplay_formatter\u001b[49m\u001b[38;5;241;43m.\u001b[39;49m\u001b[43mformat\u001b[49m\u001b[43m(\u001b[49m\u001b[43mresult\u001b[49m\u001b[43m)\u001b[49m\n",
      "File \u001b[0;32m/home/woody/i9vl/i9vl106h/software/privat/conda/envs/imaginaire/lib/python3.8/site-packages/IPython/core/formatters.py:179\u001b[0m, in \u001b[0;36mDisplayFormatter.format\u001b[0;34m(self, obj, include, exclude)\u001b[0m\n\u001b[1;32m    177\u001b[0m md \u001b[38;5;241m=\u001b[39m \u001b[38;5;28;01mNone\u001b[39;00m\n\u001b[1;32m    178\u001b[0m \u001b[38;5;28;01mtry\u001b[39;00m:\n\u001b[0;32m--> 179\u001b[0m     data \u001b[38;5;241m=\u001b[39m \u001b[43mformatter\u001b[49m\u001b[43m(\u001b[49m\u001b[43mobj\u001b[49m\u001b[43m)\u001b[49m\n\u001b[1;32m    180\u001b[0m \u001b[38;5;28;01mexcept\u001b[39;00m:\n\u001b[1;32m    181\u001b[0m     \u001b[38;5;66;03m# FIXME: log the exception\u001b[39;00m\n\u001b[1;32m    182\u001b[0m     \u001b[38;5;28;01mraise\u001b[39;00m\n",
      "File \u001b[0;32m/home/woody/i9vl/i9vl106h/software/privat/conda/envs/imaginaire/lib/python3.8/site-packages/decorator.py:232\u001b[0m, in \u001b[0;36mdecorate.<locals>.fun\u001b[0;34m(*args, **kw)\u001b[0m\n\u001b[1;32m    230\u001b[0m \u001b[38;5;28;01mif\u001b[39;00m \u001b[38;5;129;01mnot\u001b[39;00m kwsyntax:\n\u001b[1;32m    231\u001b[0m     args, kw \u001b[38;5;241m=\u001b[39m fix(args, kw, sig)\n\u001b[0;32m--> 232\u001b[0m \u001b[38;5;28;01mreturn\u001b[39;00m \u001b[43mcaller\u001b[49m\u001b[43m(\u001b[49m\u001b[43mfunc\u001b[49m\u001b[43m,\u001b[49m\u001b[43m \u001b[49m\u001b[38;5;241;43m*\u001b[39;49m\u001b[43m(\u001b[49m\u001b[43mextras\u001b[49m\u001b[43m \u001b[49m\u001b[38;5;241;43m+\u001b[39;49m\u001b[43m \u001b[49m\u001b[43margs\u001b[49m\u001b[43m)\u001b[49m\u001b[43m,\u001b[49m\u001b[43m \u001b[49m\u001b[38;5;241;43m*\u001b[39;49m\u001b[38;5;241;43m*\u001b[39;49m\u001b[43mkw\u001b[49m\u001b[43m)\u001b[49m\n",
      "File \u001b[0;32m/home/woody/i9vl/i9vl106h/software/privat/conda/envs/imaginaire/lib/python3.8/site-packages/IPython/core/formatters.py:223\u001b[0m, in \u001b[0;36mcatch_format_error\u001b[0;34m(method, self, *args, **kwargs)\u001b[0m\n\u001b[1;32m    221\u001b[0m \u001b[38;5;250m\u001b[39m\u001b[38;5;124;03m\"\"\"show traceback on failed format call\"\"\"\u001b[39;00m\n\u001b[1;32m    222\u001b[0m \u001b[38;5;28;01mtry\u001b[39;00m:\n\u001b[0;32m--> 223\u001b[0m     r \u001b[38;5;241m=\u001b[39m \u001b[43mmethod\u001b[49m\u001b[43m(\u001b[49m\u001b[38;5;28;43mself\u001b[39;49m\u001b[43m,\u001b[49m\u001b[43m \u001b[49m\u001b[38;5;241;43m*\u001b[39;49m\u001b[43margs\u001b[49m\u001b[43m,\u001b[49m\u001b[43m \u001b[49m\u001b[38;5;241;43m*\u001b[39;49m\u001b[38;5;241;43m*\u001b[39;49m\u001b[43mkwargs\u001b[49m\u001b[43m)\u001b[49m\n\u001b[1;32m    224\u001b[0m \u001b[38;5;28;01mexcept\u001b[39;00m \u001b[38;5;167;01mNotImplementedError\u001b[39;00m:\n\u001b[1;32m    225\u001b[0m     \u001b[38;5;66;03m# don't warn on NotImplementedErrors\u001b[39;00m\n\u001b[1;32m    226\u001b[0m     \u001b[38;5;28;01mreturn\u001b[39;00m \u001b[38;5;28mself\u001b[39m\u001b[38;5;241m.\u001b[39m_check_return(\u001b[38;5;28;01mNone\u001b[39;00m, args[\u001b[38;5;241m0\u001b[39m])\n",
      "File \u001b[0;32m/home/woody/i9vl/i9vl106h/software/privat/conda/envs/imaginaire/lib/python3.8/site-packages/IPython/core/formatters.py:708\u001b[0m, in \u001b[0;36mPlainTextFormatter.__call__\u001b[0;34m(self, obj)\u001b[0m\n\u001b[1;32m    701\u001b[0m stream \u001b[38;5;241m=\u001b[39m StringIO()\n\u001b[1;32m    702\u001b[0m printer \u001b[38;5;241m=\u001b[39m pretty\u001b[38;5;241m.\u001b[39mRepresentationPrinter(stream, \u001b[38;5;28mself\u001b[39m\u001b[38;5;241m.\u001b[39mverbose,\n\u001b[1;32m    703\u001b[0m     \u001b[38;5;28mself\u001b[39m\u001b[38;5;241m.\u001b[39mmax_width, \u001b[38;5;28mself\u001b[39m\u001b[38;5;241m.\u001b[39mnewline,\n\u001b[1;32m    704\u001b[0m     max_seq_length\u001b[38;5;241m=\u001b[39m\u001b[38;5;28mself\u001b[39m\u001b[38;5;241m.\u001b[39mmax_seq_length,\n\u001b[1;32m    705\u001b[0m     singleton_pprinters\u001b[38;5;241m=\u001b[39m\u001b[38;5;28mself\u001b[39m\u001b[38;5;241m.\u001b[39msingleton_printers,\n\u001b[1;32m    706\u001b[0m     type_pprinters\u001b[38;5;241m=\u001b[39m\u001b[38;5;28mself\u001b[39m\u001b[38;5;241m.\u001b[39mtype_printers,\n\u001b[1;32m    707\u001b[0m     deferred_pprinters\u001b[38;5;241m=\u001b[39m\u001b[38;5;28mself\u001b[39m\u001b[38;5;241m.\u001b[39mdeferred_printers)\n\u001b[0;32m--> 708\u001b[0m \u001b[43mprinter\u001b[49m\u001b[38;5;241;43m.\u001b[39;49m\u001b[43mpretty\u001b[49m\u001b[43m(\u001b[49m\u001b[43mobj\u001b[49m\u001b[43m)\u001b[49m\n\u001b[1;32m    709\u001b[0m printer\u001b[38;5;241m.\u001b[39mflush()\n\u001b[1;32m    710\u001b[0m \u001b[38;5;28;01mreturn\u001b[39;00m stream\u001b[38;5;241m.\u001b[39mgetvalue()\n",
      "File \u001b[0;32m/home/woody/i9vl/i9vl106h/software/privat/conda/envs/imaginaire/lib/python3.8/site-packages/IPython/lib/pretty.py:393\u001b[0m, in \u001b[0;36mRepresentationPrinter.pretty\u001b[0;34m(self, obj)\u001b[0m\n\u001b[1;32m    390\u001b[0m \u001b[38;5;28;01mfor\u001b[39;00m \u001b[38;5;28mcls\u001b[39m \u001b[38;5;129;01min\u001b[39;00m _get_mro(obj_class):\n\u001b[1;32m    391\u001b[0m     \u001b[38;5;28;01mif\u001b[39;00m \u001b[38;5;28mcls\u001b[39m \u001b[38;5;129;01min\u001b[39;00m \u001b[38;5;28mself\u001b[39m\u001b[38;5;241m.\u001b[39mtype_pprinters:\n\u001b[1;32m    392\u001b[0m         \u001b[38;5;66;03m# printer registered in self.type_pprinters\u001b[39;00m\n\u001b[0;32m--> 393\u001b[0m         \u001b[38;5;28;01mreturn\u001b[39;00m \u001b[38;5;28;43mself\u001b[39;49m\u001b[38;5;241;43m.\u001b[39;49m\u001b[43mtype_pprinters\u001b[49m\u001b[43m[\u001b[49m\u001b[38;5;28;43mcls\u001b[39;49m\u001b[43m]\u001b[49m\u001b[43m(\u001b[49m\u001b[43mobj\u001b[49m\u001b[43m,\u001b[49m\u001b[43m \u001b[49m\u001b[38;5;28;43mself\u001b[39;49m\u001b[43m,\u001b[49m\u001b[43m \u001b[49m\u001b[43mcycle\u001b[49m\u001b[43m)\u001b[49m\n\u001b[1;32m    394\u001b[0m     \u001b[38;5;28;01melse\u001b[39;00m:\n\u001b[1;32m    395\u001b[0m         \u001b[38;5;66;03m# deferred printer\u001b[39;00m\n\u001b[1;32m    396\u001b[0m         printer \u001b[38;5;241m=\u001b[39m \u001b[38;5;28mself\u001b[39m\u001b[38;5;241m.\u001b[39m_in_deferred_types(\u001b[38;5;28mcls\u001b[39m)\n",
      "File \u001b[0;32m/home/woody/i9vl/i9vl106h/software/privat/conda/envs/imaginaire/lib/python3.8/site-packages/IPython/lib/pretty.py:692\u001b[0m, in \u001b[0;36m_dict_pprinter_factory.<locals>.inner\u001b[0;34m(obj, p, cycle)\u001b[0m\n\u001b[1;32m    690\u001b[0m     p\u001b[38;5;241m.\u001b[39mpretty(key)\n\u001b[1;32m    691\u001b[0m     p\u001b[38;5;241m.\u001b[39mtext(\u001b[38;5;124m'\u001b[39m\u001b[38;5;124m: \u001b[39m\u001b[38;5;124m'\u001b[39m)\n\u001b[0;32m--> 692\u001b[0m     \u001b[43mp\u001b[49m\u001b[38;5;241;43m.\u001b[39;49m\u001b[43mpretty\u001b[49m\u001b[43m(\u001b[49m\u001b[43mobj\u001b[49m\u001b[43m[\u001b[49m\u001b[43mkey\u001b[49m\u001b[43m]\u001b[49m\u001b[43m)\u001b[49m\n\u001b[1;32m    693\u001b[0m p\u001b[38;5;241m.\u001b[39mend_group(step, end)\n",
      "File \u001b[0;32m/home/woody/i9vl/i9vl106h/software/privat/conda/envs/imaginaire/lib/python3.8/site-packages/IPython/lib/pretty.py:398\u001b[0m, in \u001b[0;36mRepresentationPrinter.pretty\u001b[0;34m(self, obj)\u001b[0m\n\u001b[1;32m    396\u001b[0m printer \u001b[38;5;241m=\u001b[39m \u001b[38;5;28mself\u001b[39m\u001b[38;5;241m.\u001b[39m_in_deferred_types(\u001b[38;5;28mcls\u001b[39m)\n\u001b[1;32m    397\u001b[0m \u001b[38;5;28;01mif\u001b[39;00m printer \u001b[38;5;129;01mis\u001b[39;00m \u001b[38;5;129;01mnot\u001b[39;00m \u001b[38;5;28;01mNone\u001b[39;00m:\n\u001b[0;32m--> 398\u001b[0m     \u001b[38;5;28;01mreturn\u001b[39;00m \u001b[43mprinter\u001b[49m\u001b[43m(\u001b[49m\u001b[43mobj\u001b[49m\u001b[43m,\u001b[49m\u001b[43m \u001b[49m\u001b[38;5;28;43mself\u001b[39;49m\u001b[43m,\u001b[49m\u001b[43m \u001b[49m\u001b[43mcycle\u001b[49m\u001b[43m)\u001b[49m\n\u001b[1;32m    399\u001b[0m \u001b[38;5;28;01melse\u001b[39;00m:\n\u001b[1;32m    400\u001b[0m     \u001b[38;5;66;03m# Finally look for special method names.\u001b[39;00m\n\u001b[1;32m    401\u001b[0m     \u001b[38;5;66;03m# Some objects automatically create any requested\u001b[39;00m\n\u001b[1;32m    402\u001b[0m     \u001b[38;5;66;03m# attribute. Try to ignore most of them by checking for\u001b[39;00m\n\u001b[1;32m    403\u001b[0m     \u001b[38;5;66;03m# callability.\u001b[39;00m\n\u001b[1;32m    404\u001b[0m     \u001b[38;5;28;01mif\u001b[39;00m \u001b[38;5;124m'\u001b[39m\u001b[38;5;124m_repr_pretty_\u001b[39m\u001b[38;5;124m'\u001b[39m \u001b[38;5;129;01min\u001b[39;00m \u001b[38;5;28mcls\u001b[39m\u001b[38;5;241m.\u001b[39m\u001b[38;5;18m__dict__\u001b[39m:\n",
      "File \u001b[0;32m/home/woody/i9vl/i9vl106h/software/privat/conda/envs/imaginaire/lib/python3.8/site-packages/IPython/lib/pretty.py:903\u001b[0m, in \u001b[0;36m_ordereddict_pprint\u001b[0;34m(obj, p, cycle)\u001b[0m\n\u001b[1;32m    901\u001b[0m     p\u001b[38;5;241m.\u001b[39mpretty(cls_ctor(RawText(\u001b[38;5;124m\"\u001b[39m\u001b[38;5;124m...\u001b[39m\u001b[38;5;124m\"\u001b[39m)))\n\u001b[1;32m    902\u001b[0m \u001b[38;5;28;01melif\u001b[39;00m \u001b[38;5;28mlen\u001b[39m(obj):\n\u001b[0;32m--> 903\u001b[0m     \u001b[43mp\u001b[49m\u001b[38;5;241;43m.\u001b[39;49m\u001b[43mpretty\u001b[49m\u001b[43m(\u001b[49m\u001b[43mcls_ctor\u001b[49m\u001b[43m(\u001b[49m\u001b[38;5;28;43mlist\u001b[39;49m\u001b[43m(\u001b[49m\u001b[43mobj\u001b[49m\u001b[38;5;241;43m.\u001b[39;49m\u001b[43mitems\u001b[49m\u001b[43m(\u001b[49m\u001b[43m)\u001b[49m\u001b[43m)\u001b[49m\u001b[43m)\u001b[49m\u001b[43m)\u001b[49m\n\u001b[1;32m    904\u001b[0m \u001b[38;5;28;01melse\u001b[39;00m:\n\u001b[1;32m    905\u001b[0m     p\u001b[38;5;241m.\u001b[39mpretty(cls_ctor())\n",
      "File \u001b[0;32m/home/woody/i9vl/i9vl106h/software/privat/conda/envs/imaginaire/lib/python3.8/site-packages/IPython/lib/pretty.py:407\u001b[0m, in \u001b[0;36mRepresentationPrinter.pretty\u001b[0;34m(self, obj)\u001b[0m\n\u001b[1;32m    405\u001b[0m     meth \u001b[38;5;241m=\u001b[39m \u001b[38;5;28mcls\u001b[39m\u001b[38;5;241m.\u001b[39m_repr_pretty_\n\u001b[1;32m    406\u001b[0m     \u001b[38;5;28;01mif\u001b[39;00m \u001b[38;5;28mcallable\u001b[39m(meth):\n\u001b[0;32m--> 407\u001b[0m         \u001b[38;5;28;01mreturn\u001b[39;00m \u001b[43mmeth\u001b[49m\u001b[43m(\u001b[49m\u001b[43mobj\u001b[49m\u001b[43m,\u001b[49m\u001b[43m \u001b[49m\u001b[38;5;28;43mself\u001b[39;49m\u001b[43m,\u001b[49m\u001b[43m \u001b[49m\u001b[43mcycle\u001b[49m\u001b[43m)\u001b[49m\n\u001b[1;32m    408\u001b[0m \u001b[38;5;28;01mif\u001b[39;00m \u001b[38;5;28mcls\u001b[39m \u001b[38;5;129;01mis\u001b[39;00m \u001b[38;5;129;01mnot\u001b[39;00m \u001b[38;5;28mobject\u001b[39m \\\n\u001b[1;32m    409\u001b[0m         \u001b[38;5;129;01mand\u001b[39;00m \u001b[38;5;28mcallable\u001b[39m(\u001b[38;5;28mcls\u001b[39m\u001b[38;5;241m.\u001b[39m\u001b[38;5;18m__dict__\u001b[39m\u001b[38;5;241m.\u001b[39mget(\u001b[38;5;124m'\u001b[39m\u001b[38;5;124m__repr__\u001b[39m\u001b[38;5;124m'\u001b[39m)):\n\u001b[1;32m    410\u001b[0m     \u001b[38;5;28;01mreturn\u001b[39;00m _repr_pprint(obj, \u001b[38;5;28mself\u001b[39m, cycle)\n",
      "File \u001b[0;32m/home/woody/i9vl/i9vl106h/software/privat/conda/envs/imaginaire/lib/python3.8/site-packages/IPython/lib/pretty.py:564\u001b[0m, in \u001b[0;36mCallExpression._repr_pretty_\u001b[0;34m(self, p, cycle)\u001b[0m\n\u001b[1;32m    562\u001b[0m \u001b[38;5;28;01mfor\u001b[39;00m arg \u001b[38;5;129;01min\u001b[39;00m \u001b[38;5;28mself\u001b[39m\u001b[38;5;241m.\u001b[39margs:\n\u001b[1;32m    563\u001b[0m     new_item()\n\u001b[0;32m--> 564\u001b[0m     \u001b[43mp\u001b[49m\u001b[38;5;241;43m.\u001b[39;49m\u001b[43mpretty\u001b[49m\u001b[43m(\u001b[49m\u001b[43marg\u001b[49m\u001b[43m)\u001b[49m\n\u001b[1;32m    565\u001b[0m \u001b[38;5;28;01mfor\u001b[39;00m arg_name, arg \u001b[38;5;129;01min\u001b[39;00m \u001b[38;5;28mself\u001b[39m\u001b[38;5;241m.\u001b[39mkwargs\u001b[38;5;241m.\u001b[39mitems():\n\u001b[1;32m    566\u001b[0m     new_item()\n",
      "File \u001b[0;32m/home/woody/i9vl/i9vl106h/software/privat/conda/envs/imaginaire/lib/python3.8/site-packages/IPython/lib/pretty.py:393\u001b[0m, in \u001b[0;36mRepresentationPrinter.pretty\u001b[0;34m(self, obj)\u001b[0m\n\u001b[1;32m    390\u001b[0m \u001b[38;5;28;01mfor\u001b[39;00m \u001b[38;5;28mcls\u001b[39m \u001b[38;5;129;01min\u001b[39;00m _get_mro(obj_class):\n\u001b[1;32m    391\u001b[0m     \u001b[38;5;28;01mif\u001b[39;00m \u001b[38;5;28mcls\u001b[39m \u001b[38;5;129;01min\u001b[39;00m \u001b[38;5;28mself\u001b[39m\u001b[38;5;241m.\u001b[39mtype_pprinters:\n\u001b[1;32m    392\u001b[0m         \u001b[38;5;66;03m# printer registered in self.type_pprinters\u001b[39;00m\n\u001b[0;32m--> 393\u001b[0m         \u001b[38;5;28;01mreturn\u001b[39;00m \u001b[38;5;28;43mself\u001b[39;49m\u001b[38;5;241;43m.\u001b[39;49m\u001b[43mtype_pprinters\u001b[49m\u001b[43m[\u001b[49m\u001b[38;5;28;43mcls\u001b[39;49m\u001b[43m]\u001b[49m\u001b[43m(\u001b[49m\u001b[43mobj\u001b[49m\u001b[43m,\u001b[49m\u001b[43m \u001b[49m\u001b[38;5;28;43mself\u001b[39;49m\u001b[43m,\u001b[49m\u001b[43m \u001b[49m\u001b[43mcycle\u001b[49m\u001b[43m)\u001b[49m\n\u001b[1;32m    394\u001b[0m     \u001b[38;5;28;01melse\u001b[39;00m:\n\u001b[1;32m    395\u001b[0m         \u001b[38;5;66;03m# deferred printer\u001b[39;00m\n\u001b[1;32m    396\u001b[0m         printer \u001b[38;5;241m=\u001b[39m \u001b[38;5;28mself\u001b[39m\u001b[38;5;241m.\u001b[39m_in_deferred_types(\u001b[38;5;28mcls\u001b[39m)\n",
      "File \u001b[0;32m/home/woody/i9vl/i9vl106h/software/privat/conda/envs/imaginaire/lib/python3.8/site-packages/IPython/lib/pretty.py:640\u001b[0m, in \u001b[0;36m_seq_pprinter_factory.<locals>.inner\u001b[0;34m(obj, p, cycle)\u001b[0m\n\u001b[1;32m    638\u001b[0m         p\u001b[38;5;241m.\u001b[39mtext(\u001b[38;5;124m'\u001b[39m\u001b[38;5;124m,\u001b[39m\u001b[38;5;124m'\u001b[39m)\n\u001b[1;32m    639\u001b[0m         p\u001b[38;5;241m.\u001b[39mbreakable()\n\u001b[0;32m--> 640\u001b[0m     \u001b[43mp\u001b[49m\u001b[38;5;241;43m.\u001b[39;49m\u001b[43mpretty\u001b[49m\u001b[43m(\u001b[49m\u001b[43mx\u001b[49m\u001b[43m)\u001b[49m\n\u001b[1;32m    641\u001b[0m \u001b[38;5;28;01mif\u001b[39;00m \u001b[38;5;28mlen\u001b[39m(obj) \u001b[38;5;241m==\u001b[39m \u001b[38;5;241m1\u001b[39m \u001b[38;5;129;01mand\u001b[39;00m \u001b[38;5;28misinstance\u001b[39m(obj, \u001b[38;5;28mtuple\u001b[39m):\n\u001b[1;32m    642\u001b[0m     \u001b[38;5;66;03m# Special case for 1-item tuples.\u001b[39;00m\n\u001b[1;32m    643\u001b[0m     p\u001b[38;5;241m.\u001b[39mtext(\u001b[38;5;124m'\u001b[39m\u001b[38;5;124m,\u001b[39m\u001b[38;5;124m'\u001b[39m)\n",
      "File \u001b[0;32m/home/woody/i9vl/i9vl106h/software/privat/conda/envs/imaginaire/lib/python3.8/site-packages/IPython/lib/pretty.py:393\u001b[0m, in \u001b[0;36mRepresentationPrinter.pretty\u001b[0;34m(self, obj)\u001b[0m\n\u001b[1;32m    390\u001b[0m \u001b[38;5;28;01mfor\u001b[39;00m \u001b[38;5;28mcls\u001b[39m \u001b[38;5;129;01min\u001b[39;00m _get_mro(obj_class):\n\u001b[1;32m    391\u001b[0m     \u001b[38;5;28;01mif\u001b[39;00m \u001b[38;5;28mcls\u001b[39m \u001b[38;5;129;01min\u001b[39;00m \u001b[38;5;28mself\u001b[39m\u001b[38;5;241m.\u001b[39mtype_pprinters:\n\u001b[1;32m    392\u001b[0m         \u001b[38;5;66;03m# printer registered in self.type_pprinters\u001b[39;00m\n\u001b[0;32m--> 393\u001b[0m         \u001b[38;5;28;01mreturn\u001b[39;00m \u001b[38;5;28;43mself\u001b[39;49m\u001b[38;5;241;43m.\u001b[39;49m\u001b[43mtype_pprinters\u001b[49m\u001b[43m[\u001b[49m\u001b[38;5;28;43mcls\u001b[39;49m\u001b[43m]\u001b[49m\u001b[43m(\u001b[49m\u001b[43mobj\u001b[49m\u001b[43m,\u001b[49m\u001b[43m \u001b[49m\u001b[38;5;28;43mself\u001b[39;49m\u001b[43m,\u001b[49m\u001b[43m \u001b[49m\u001b[43mcycle\u001b[49m\u001b[43m)\u001b[49m\n\u001b[1;32m    394\u001b[0m     \u001b[38;5;28;01melse\u001b[39;00m:\n\u001b[1;32m    395\u001b[0m         \u001b[38;5;66;03m# deferred printer\u001b[39;00m\n\u001b[1;32m    396\u001b[0m         printer \u001b[38;5;241m=\u001b[39m \u001b[38;5;28mself\u001b[39m\u001b[38;5;241m.\u001b[39m_in_deferred_types(\u001b[38;5;28mcls\u001b[39m)\n",
      "File \u001b[0;32m/home/woody/i9vl/i9vl106h/software/privat/conda/envs/imaginaire/lib/python3.8/site-packages/IPython/lib/pretty.py:640\u001b[0m, in \u001b[0;36m_seq_pprinter_factory.<locals>.inner\u001b[0;34m(obj, p, cycle)\u001b[0m\n\u001b[1;32m    638\u001b[0m         p\u001b[38;5;241m.\u001b[39mtext(\u001b[38;5;124m'\u001b[39m\u001b[38;5;124m,\u001b[39m\u001b[38;5;124m'\u001b[39m)\n\u001b[1;32m    639\u001b[0m         p\u001b[38;5;241m.\u001b[39mbreakable()\n\u001b[0;32m--> 640\u001b[0m     \u001b[43mp\u001b[49m\u001b[38;5;241;43m.\u001b[39;49m\u001b[43mpretty\u001b[49m\u001b[43m(\u001b[49m\u001b[43mx\u001b[49m\u001b[43m)\u001b[49m\n\u001b[1;32m    641\u001b[0m \u001b[38;5;28;01mif\u001b[39;00m \u001b[38;5;28mlen\u001b[39m(obj) \u001b[38;5;241m==\u001b[39m \u001b[38;5;241m1\u001b[39m \u001b[38;5;129;01mand\u001b[39;00m \u001b[38;5;28misinstance\u001b[39m(obj, \u001b[38;5;28mtuple\u001b[39m):\n\u001b[1;32m    642\u001b[0m     \u001b[38;5;66;03m# Special case for 1-item tuples.\u001b[39;00m\n\u001b[1;32m    643\u001b[0m     p\u001b[38;5;241m.\u001b[39mtext(\u001b[38;5;124m'\u001b[39m\u001b[38;5;124m,\u001b[39m\u001b[38;5;124m'\u001b[39m)\n",
      "File \u001b[0;32m/home/woody/i9vl/i9vl106h/software/privat/conda/envs/imaginaire/lib/python3.8/site-packages/IPython/lib/pretty.py:410\u001b[0m, in \u001b[0;36mRepresentationPrinter.pretty\u001b[0;34m(self, obj)\u001b[0m\n\u001b[1;32m    407\u001b[0m                         \u001b[38;5;28;01mreturn\u001b[39;00m meth(obj, \u001b[38;5;28mself\u001b[39m, cycle)\n\u001b[1;32m    408\u001b[0m                 \u001b[38;5;28;01mif\u001b[39;00m \u001b[38;5;28mcls\u001b[39m \u001b[38;5;129;01mis\u001b[39;00m \u001b[38;5;129;01mnot\u001b[39;00m \u001b[38;5;28mobject\u001b[39m \\\n\u001b[1;32m    409\u001b[0m                         \u001b[38;5;129;01mand\u001b[39;00m \u001b[38;5;28mcallable\u001b[39m(\u001b[38;5;28mcls\u001b[39m\u001b[38;5;241m.\u001b[39m\u001b[38;5;18m__dict__\u001b[39m\u001b[38;5;241m.\u001b[39mget(\u001b[38;5;124m'\u001b[39m\u001b[38;5;124m__repr__\u001b[39m\u001b[38;5;124m'\u001b[39m)):\n\u001b[0;32m--> 410\u001b[0m                     \u001b[38;5;28;01mreturn\u001b[39;00m \u001b[43m_repr_pprint\u001b[49m\u001b[43m(\u001b[49m\u001b[43mobj\u001b[49m\u001b[43m,\u001b[49m\u001b[43m \u001b[49m\u001b[38;5;28;43mself\u001b[39;49m\u001b[43m,\u001b[49m\u001b[43m \u001b[49m\u001b[43mcycle\u001b[49m\u001b[43m)\u001b[49m\n\u001b[1;32m    412\u001b[0m     \u001b[38;5;28;01mreturn\u001b[39;00m _default_pprint(obj, \u001b[38;5;28mself\u001b[39m, cycle)\n\u001b[1;32m    413\u001b[0m \u001b[38;5;28;01mfinally\u001b[39;00m:\n",
      "File \u001b[0;32m/home/woody/i9vl/i9vl106h/software/privat/conda/envs/imaginaire/lib/python3.8/site-packages/IPython/lib/pretty.py:778\u001b[0m, in \u001b[0;36m_repr_pprint\u001b[0;34m(obj, p, cycle)\u001b[0m\n\u001b[1;32m    776\u001b[0m \u001b[38;5;250m\u001b[39m\u001b[38;5;124;03m\"\"\"A pprint that just redirects to the normal repr function.\"\"\"\u001b[39;00m\n\u001b[1;32m    777\u001b[0m \u001b[38;5;66;03m# Find newlines and replace them with p.break_()\u001b[39;00m\n\u001b[0;32m--> 778\u001b[0m output \u001b[38;5;241m=\u001b[39m \u001b[38;5;28;43mrepr\u001b[39;49m\u001b[43m(\u001b[49m\u001b[43mobj\u001b[49m\u001b[43m)\u001b[49m\n\u001b[1;32m    779\u001b[0m lines \u001b[38;5;241m=\u001b[39m output\u001b[38;5;241m.\u001b[39msplitlines()\n\u001b[1;32m    780\u001b[0m \u001b[38;5;28;01mwith\u001b[39;00m p\u001b[38;5;241m.\u001b[39mgroup():\n",
      "File \u001b[0;32m/home/woody/i9vl/i9vl106h/software/privat/conda/envs/imaginaire/lib/python3.8/site-packages/torch/_tensor.py:426\u001b[0m, in \u001b[0;36mTensor.__repr__\u001b[0;34m(self, tensor_contents)\u001b[0m\n\u001b[1;32m    422\u001b[0m     \u001b[38;5;28;01mreturn\u001b[39;00m handle_torch_function(\n\u001b[1;32m    423\u001b[0m         Tensor\u001b[38;5;241m.\u001b[39m\u001b[38;5;21m__repr__\u001b[39m, (\u001b[38;5;28mself\u001b[39m,), \u001b[38;5;28mself\u001b[39m, tensor_contents\u001b[38;5;241m=\u001b[39mtensor_contents\n\u001b[1;32m    424\u001b[0m     )\n\u001b[1;32m    425\u001b[0m \u001b[38;5;66;03m# All strings are unicode in Python 3.\u001b[39;00m\n\u001b[0;32m--> 426\u001b[0m \u001b[38;5;28;01mreturn\u001b[39;00m \u001b[43mtorch\u001b[49m\u001b[38;5;241;43m.\u001b[39;49m\u001b[43m_tensor_str\u001b[49m\u001b[38;5;241;43m.\u001b[39;49m\u001b[43m_str\u001b[49m\u001b[43m(\u001b[49m\u001b[38;5;28;43mself\u001b[39;49m\u001b[43m,\u001b[49m\u001b[43m \u001b[49m\u001b[43mtensor_contents\u001b[49m\u001b[38;5;241;43m=\u001b[39;49m\u001b[43mtensor_contents\u001b[49m\u001b[43m)\u001b[49m\n",
      "File \u001b[0;32m/home/woody/i9vl/i9vl106h/software/privat/conda/envs/imaginaire/lib/python3.8/site-packages/torch/_tensor_str.py:636\u001b[0m, in \u001b[0;36m_str\u001b[0;34m(self, tensor_contents)\u001b[0m\n\u001b[1;32m    634\u001b[0m \u001b[38;5;28;01mwith\u001b[39;00m torch\u001b[38;5;241m.\u001b[39mno_grad(), torch\u001b[38;5;241m.\u001b[39mutils\u001b[38;5;241m.\u001b[39m_python_dispatch\u001b[38;5;241m.\u001b[39m_disable_current_modes():\n\u001b[1;32m    635\u001b[0m     guard \u001b[38;5;241m=\u001b[39m torch\u001b[38;5;241m.\u001b[39m_C\u001b[38;5;241m.\u001b[39m_DisableFuncTorch()\n\u001b[0;32m--> 636\u001b[0m     \u001b[38;5;28;01mreturn\u001b[39;00m \u001b[43m_str_intern\u001b[49m\u001b[43m(\u001b[49m\u001b[38;5;28;43mself\u001b[39;49m\u001b[43m,\u001b[49m\u001b[43m \u001b[49m\u001b[43mtensor_contents\u001b[49m\u001b[38;5;241;43m=\u001b[39;49m\u001b[43mtensor_contents\u001b[49m\u001b[43m)\u001b[49m\n",
      "File \u001b[0;32m/home/woody/i9vl/i9vl106h/software/privat/conda/envs/imaginaire/lib/python3.8/site-packages/torch/_tensor_str.py:567\u001b[0m, in \u001b[0;36m_str_intern\u001b[0;34m(inp, tensor_contents)\u001b[0m\n\u001b[1;32m    565\u001b[0m                     tensor_str \u001b[38;5;241m=\u001b[39m _tensor_str(\u001b[38;5;28mself\u001b[39m\u001b[38;5;241m.\u001b[39mto_dense(), indent)\n\u001b[1;32m    566\u001b[0m                 \u001b[38;5;28;01melse\u001b[39;00m:\n\u001b[0;32m--> 567\u001b[0m                     tensor_str \u001b[38;5;241m=\u001b[39m \u001b[43m_tensor_str\u001b[49m\u001b[43m(\u001b[49m\u001b[38;5;28;43mself\u001b[39;49m\u001b[43m,\u001b[49m\u001b[43m \u001b[49m\u001b[43mindent\u001b[49m\u001b[43m)\u001b[49m\n\u001b[1;32m    569\u001b[0m \u001b[38;5;28;01mif\u001b[39;00m \u001b[38;5;28mself\u001b[39m\u001b[38;5;241m.\u001b[39mlayout \u001b[38;5;241m!=\u001b[39m torch\u001b[38;5;241m.\u001b[39mstrided:\n\u001b[1;32m    570\u001b[0m     suffixes\u001b[38;5;241m.\u001b[39mappend(\u001b[38;5;124m\"\u001b[39m\u001b[38;5;124mlayout=\u001b[39m\u001b[38;5;124m\"\u001b[39m \u001b[38;5;241m+\u001b[39m \u001b[38;5;28mstr\u001b[39m(\u001b[38;5;28mself\u001b[39m\u001b[38;5;241m.\u001b[39mlayout))\n",
      "File \u001b[0;32m/home/woody/i9vl/i9vl106h/software/privat/conda/envs/imaginaire/lib/python3.8/site-packages/torch/_tensor_str.py:328\u001b[0m, in \u001b[0;36m_tensor_str\u001b[0;34m(self, indent)\u001b[0m\n\u001b[1;32m    326\u001b[0m \u001b[38;5;28;01melse\u001b[39;00m:\n\u001b[1;32m    327\u001b[0m     formatter \u001b[38;5;241m=\u001b[39m _Formatter(get_summarized_data(\u001b[38;5;28mself\u001b[39m) \u001b[38;5;28;01mif\u001b[39;00m summarize \u001b[38;5;28;01melse\u001b[39;00m \u001b[38;5;28mself\u001b[39m)\n\u001b[0;32m--> 328\u001b[0m     \u001b[38;5;28;01mreturn\u001b[39;00m \u001b[43m_tensor_str_with_formatter\u001b[49m\u001b[43m(\u001b[49m\u001b[38;5;28;43mself\u001b[39;49m\u001b[43m,\u001b[49m\u001b[43m \u001b[49m\u001b[43mindent\u001b[49m\u001b[43m,\u001b[49m\u001b[43m \u001b[49m\u001b[43msummarize\u001b[49m\u001b[43m,\u001b[49m\u001b[43m \u001b[49m\u001b[43mformatter\u001b[49m\u001b[43m)\u001b[49m\n",
      "File \u001b[0;32m/home/woody/i9vl/i9vl106h/software/privat/conda/envs/imaginaire/lib/python3.8/site-packages/torch/_tensor_str.py:268\u001b[0m, in \u001b[0;36m_tensor_str_with_formatter\u001b[0;34m(self, indent, summarize, formatter1, formatter2)\u001b[0m\n\u001b[1;32m    257\u001b[0m     \u001b[38;5;28;01mreturn\u001b[39;00m _vector_str(\u001b[38;5;28mself\u001b[39m, indent, summarize, formatter1, formatter2)\n\u001b[1;32m    259\u001b[0m \u001b[38;5;28;01mif\u001b[39;00m summarize \u001b[38;5;129;01mand\u001b[39;00m \u001b[38;5;28mself\u001b[39m\u001b[38;5;241m.\u001b[39msize(\u001b[38;5;241m0\u001b[39m) \u001b[38;5;241m>\u001b[39m \u001b[38;5;241m2\u001b[39m \u001b[38;5;241m*\u001b[39m PRINT_OPTS\u001b[38;5;241m.\u001b[39medgeitems:\n\u001b[1;32m    260\u001b[0m     slices \u001b[38;5;241m=\u001b[39m (\n\u001b[1;32m    261\u001b[0m         [\n\u001b[1;32m    262\u001b[0m             _tensor_str_with_formatter(\n\u001b[1;32m    263\u001b[0m                 \u001b[38;5;28mself\u001b[39m[i], indent \u001b[38;5;241m+\u001b[39m \u001b[38;5;241m1\u001b[39m, summarize, formatter1, formatter2\n\u001b[1;32m    264\u001b[0m             )\n\u001b[1;32m    265\u001b[0m             \u001b[38;5;28;01mfor\u001b[39;00m i \u001b[38;5;129;01min\u001b[39;00m \u001b[38;5;28mrange\u001b[39m(\u001b[38;5;241m0\u001b[39m, PRINT_OPTS\u001b[38;5;241m.\u001b[39medgeitems)\n\u001b[1;32m    266\u001b[0m         ]\n\u001b[1;32m    267\u001b[0m         \u001b[38;5;241m+\u001b[39m [\u001b[38;5;124m\"\u001b[39m\u001b[38;5;124m...\u001b[39m\u001b[38;5;124m\"\u001b[39m]\n\u001b[0;32m--> 268\u001b[0m         \u001b[38;5;241m+\u001b[39m [\n\u001b[1;32m    269\u001b[0m             _tensor_str_with_formatter(\n\u001b[1;32m    270\u001b[0m                 \u001b[38;5;28mself\u001b[39m[i], indent \u001b[38;5;241m+\u001b[39m \u001b[38;5;241m1\u001b[39m, summarize, formatter1, formatter2\n\u001b[1;32m    271\u001b[0m             )\n\u001b[1;32m    272\u001b[0m             \u001b[38;5;28;01mfor\u001b[39;00m i \u001b[38;5;129;01min\u001b[39;00m \u001b[38;5;28mrange\u001b[39m(\u001b[38;5;28mlen\u001b[39m(\u001b[38;5;28mself\u001b[39m) \u001b[38;5;241m-\u001b[39m PRINT_OPTS\u001b[38;5;241m.\u001b[39medgeitems, \u001b[38;5;28mlen\u001b[39m(\u001b[38;5;28mself\u001b[39m))\n\u001b[1;32m    273\u001b[0m         ]\n\u001b[1;32m    274\u001b[0m     )\n\u001b[1;32m    275\u001b[0m \u001b[38;5;28;01melse\u001b[39;00m:\n\u001b[1;32m    276\u001b[0m     slices \u001b[38;5;241m=\u001b[39m [\n\u001b[1;32m    277\u001b[0m         _tensor_str_with_formatter(\n\u001b[1;32m    278\u001b[0m             \u001b[38;5;28mself\u001b[39m[i], indent \u001b[38;5;241m+\u001b[39m \u001b[38;5;241m1\u001b[39m, summarize, formatter1, formatter2\n\u001b[1;32m    279\u001b[0m         )\n\u001b[1;32m    280\u001b[0m         \u001b[38;5;28;01mfor\u001b[39;00m i \u001b[38;5;129;01min\u001b[39;00m \u001b[38;5;28mrange\u001b[39m(\u001b[38;5;241m0\u001b[39m, \u001b[38;5;28mself\u001b[39m\u001b[38;5;241m.\u001b[39msize(\u001b[38;5;241m0\u001b[39m))\n\u001b[1;32m    281\u001b[0m     ]\n",
      "File \u001b[0;32m/home/woody/i9vl/i9vl106h/software/privat/conda/envs/imaginaire/lib/python3.8/site-packages/torch/_tensor_str.py:269\u001b[0m, in \u001b[0;36m<listcomp>\u001b[0;34m(.0)\u001b[0m\n\u001b[1;32m    257\u001b[0m     \u001b[38;5;28;01mreturn\u001b[39;00m _vector_str(\u001b[38;5;28mself\u001b[39m, indent, summarize, formatter1, formatter2)\n\u001b[1;32m    259\u001b[0m \u001b[38;5;28;01mif\u001b[39;00m summarize \u001b[38;5;129;01mand\u001b[39;00m \u001b[38;5;28mself\u001b[39m\u001b[38;5;241m.\u001b[39msize(\u001b[38;5;241m0\u001b[39m) \u001b[38;5;241m>\u001b[39m \u001b[38;5;241m2\u001b[39m \u001b[38;5;241m*\u001b[39m PRINT_OPTS\u001b[38;5;241m.\u001b[39medgeitems:\n\u001b[1;32m    260\u001b[0m     slices \u001b[38;5;241m=\u001b[39m (\n\u001b[1;32m    261\u001b[0m         [\n\u001b[1;32m    262\u001b[0m             _tensor_str_with_formatter(\n\u001b[1;32m    263\u001b[0m                 \u001b[38;5;28mself\u001b[39m[i], indent \u001b[38;5;241m+\u001b[39m \u001b[38;5;241m1\u001b[39m, summarize, formatter1, formatter2\n\u001b[1;32m    264\u001b[0m             )\n\u001b[1;32m    265\u001b[0m             \u001b[38;5;28;01mfor\u001b[39;00m i \u001b[38;5;129;01min\u001b[39;00m \u001b[38;5;28mrange\u001b[39m(\u001b[38;5;241m0\u001b[39m, PRINT_OPTS\u001b[38;5;241m.\u001b[39medgeitems)\n\u001b[1;32m    266\u001b[0m         ]\n\u001b[1;32m    267\u001b[0m         \u001b[38;5;241m+\u001b[39m [\u001b[38;5;124m\"\u001b[39m\u001b[38;5;124m...\u001b[39m\u001b[38;5;124m\"\u001b[39m]\n\u001b[1;32m    268\u001b[0m         \u001b[38;5;241m+\u001b[39m [\n\u001b[0;32m--> 269\u001b[0m             \u001b[43m_tensor_str_with_formatter\u001b[49m\u001b[43m(\u001b[49m\n\u001b[1;32m    270\u001b[0m \u001b[43m                \u001b[49m\u001b[38;5;28;43mself\u001b[39;49m\u001b[43m[\u001b[49m\u001b[43mi\u001b[49m\u001b[43m]\u001b[49m\u001b[43m,\u001b[49m\u001b[43m \u001b[49m\u001b[43mindent\u001b[49m\u001b[43m \u001b[49m\u001b[38;5;241;43m+\u001b[39;49m\u001b[43m \u001b[49m\u001b[38;5;241;43m1\u001b[39;49m\u001b[43m,\u001b[49m\u001b[43m \u001b[49m\u001b[43msummarize\u001b[49m\u001b[43m,\u001b[49m\u001b[43m \u001b[49m\u001b[43mformatter1\u001b[49m\u001b[43m,\u001b[49m\u001b[43m \u001b[49m\u001b[43mformatter2\u001b[49m\n\u001b[1;32m    271\u001b[0m \u001b[43m            \u001b[49m\u001b[43m)\u001b[49m\n\u001b[1;32m    272\u001b[0m             \u001b[38;5;28;01mfor\u001b[39;00m i \u001b[38;5;129;01min\u001b[39;00m \u001b[38;5;28mrange\u001b[39m(\u001b[38;5;28mlen\u001b[39m(\u001b[38;5;28mself\u001b[39m) \u001b[38;5;241m-\u001b[39m PRINT_OPTS\u001b[38;5;241m.\u001b[39medgeitems, \u001b[38;5;28mlen\u001b[39m(\u001b[38;5;28mself\u001b[39m))\n\u001b[1;32m    273\u001b[0m         ]\n\u001b[1;32m    274\u001b[0m     )\n\u001b[1;32m    275\u001b[0m \u001b[38;5;28;01melse\u001b[39;00m:\n\u001b[1;32m    276\u001b[0m     slices \u001b[38;5;241m=\u001b[39m [\n\u001b[1;32m    277\u001b[0m         _tensor_str_with_formatter(\n\u001b[1;32m    278\u001b[0m             \u001b[38;5;28mself\u001b[39m[i], indent \u001b[38;5;241m+\u001b[39m \u001b[38;5;241m1\u001b[39m, summarize, formatter1, formatter2\n\u001b[1;32m    279\u001b[0m         )\n\u001b[1;32m    280\u001b[0m         \u001b[38;5;28;01mfor\u001b[39;00m i \u001b[38;5;129;01min\u001b[39;00m \u001b[38;5;28mrange\u001b[39m(\u001b[38;5;241m0\u001b[39m, \u001b[38;5;28mself\u001b[39m\u001b[38;5;241m.\u001b[39msize(\u001b[38;5;241m0\u001b[39m))\n\u001b[1;32m    281\u001b[0m     ]\n",
      "File \u001b[0;32m/home/woody/i9vl/i9vl106h/software/privat/conda/envs/imaginaire/lib/python3.8/site-packages/torch/_tensor_str.py:268\u001b[0m, in \u001b[0;36m_tensor_str_with_formatter\u001b[0;34m(self, indent, summarize, formatter1, formatter2)\u001b[0m\n\u001b[1;32m    257\u001b[0m     \u001b[38;5;28;01mreturn\u001b[39;00m _vector_str(\u001b[38;5;28mself\u001b[39m, indent, summarize, formatter1, formatter2)\n\u001b[1;32m    259\u001b[0m \u001b[38;5;28;01mif\u001b[39;00m summarize \u001b[38;5;129;01mand\u001b[39;00m \u001b[38;5;28mself\u001b[39m\u001b[38;5;241m.\u001b[39msize(\u001b[38;5;241m0\u001b[39m) \u001b[38;5;241m>\u001b[39m \u001b[38;5;241m2\u001b[39m \u001b[38;5;241m*\u001b[39m PRINT_OPTS\u001b[38;5;241m.\u001b[39medgeitems:\n\u001b[1;32m    260\u001b[0m     slices \u001b[38;5;241m=\u001b[39m (\n\u001b[1;32m    261\u001b[0m         [\n\u001b[1;32m    262\u001b[0m             _tensor_str_with_formatter(\n\u001b[1;32m    263\u001b[0m                 \u001b[38;5;28mself\u001b[39m[i], indent \u001b[38;5;241m+\u001b[39m \u001b[38;5;241m1\u001b[39m, summarize, formatter1, formatter2\n\u001b[1;32m    264\u001b[0m             )\n\u001b[1;32m    265\u001b[0m             \u001b[38;5;28;01mfor\u001b[39;00m i \u001b[38;5;129;01min\u001b[39;00m \u001b[38;5;28mrange\u001b[39m(\u001b[38;5;241m0\u001b[39m, PRINT_OPTS\u001b[38;5;241m.\u001b[39medgeitems)\n\u001b[1;32m    266\u001b[0m         ]\n\u001b[1;32m    267\u001b[0m         \u001b[38;5;241m+\u001b[39m [\u001b[38;5;124m\"\u001b[39m\u001b[38;5;124m...\u001b[39m\u001b[38;5;124m\"\u001b[39m]\n\u001b[0;32m--> 268\u001b[0m         \u001b[38;5;241m+\u001b[39m [\n\u001b[1;32m    269\u001b[0m             _tensor_str_with_formatter(\n\u001b[1;32m    270\u001b[0m                 \u001b[38;5;28mself\u001b[39m[i], indent \u001b[38;5;241m+\u001b[39m \u001b[38;5;241m1\u001b[39m, summarize, formatter1, formatter2\n\u001b[1;32m    271\u001b[0m             )\n\u001b[1;32m    272\u001b[0m             \u001b[38;5;28;01mfor\u001b[39;00m i \u001b[38;5;129;01min\u001b[39;00m \u001b[38;5;28mrange\u001b[39m(\u001b[38;5;28mlen\u001b[39m(\u001b[38;5;28mself\u001b[39m) \u001b[38;5;241m-\u001b[39m PRINT_OPTS\u001b[38;5;241m.\u001b[39medgeitems, \u001b[38;5;28mlen\u001b[39m(\u001b[38;5;28mself\u001b[39m))\n\u001b[1;32m    273\u001b[0m         ]\n\u001b[1;32m    274\u001b[0m     )\n\u001b[1;32m    275\u001b[0m \u001b[38;5;28;01melse\u001b[39;00m:\n\u001b[1;32m    276\u001b[0m     slices \u001b[38;5;241m=\u001b[39m [\n\u001b[1;32m    277\u001b[0m         _tensor_str_with_formatter(\n\u001b[1;32m    278\u001b[0m             \u001b[38;5;28mself\u001b[39m[i], indent \u001b[38;5;241m+\u001b[39m \u001b[38;5;241m1\u001b[39m, summarize, formatter1, formatter2\n\u001b[1;32m    279\u001b[0m         )\n\u001b[1;32m    280\u001b[0m         \u001b[38;5;28;01mfor\u001b[39;00m i \u001b[38;5;129;01min\u001b[39;00m \u001b[38;5;28mrange\u001b[39m(\u001b[38;5;241m0\u001b[39m, \u001b[38;5;28mself\u001b[39m\u001b[38;5;241m.\u001b[39msize(\u001b[38;5;241m0\u001b[39m))\n\u001b[1;32m    281\u001b[0m     ]\n",
      "File \u001b[0;32m/home/woody/i9vl/i9vl106h/software/privat/conda/envs/imaginaire/lib/python3.8/site-packages/torch/_tensor_str.py:269\u001b[0m, in \u001b[0;36m<listcomp>\u001b[0;34m(.0)\u001b[0m\n\u001b[1;32m    257\u001b[0m     \u001b[38;5;28;01mreturn\u001b[39;00m _vector_str(\u001b[38;5;28mself\u001b[39m, indent, summarize, formatter1, formatter2)\n\u001b[1;32m    259\u001b[0m \u001b[38;5;28;01mif\u001b[39;00m summarize \u001b[38;5;129;01mand\u001b[39;00m \u001b[38;5;28mself\u001b[39m\u001b[38;5;241m.\u001b[39msize(\u001b[38;5;241m0\u001b[39m) \u001b[38;5;241m>\u001b[39m \u001b[38;5;241m2\u001b[39m \u001b[38;5;241m*\u001b[39m PRINT_OPTS\u001b[38;5;241m.\u001b[39medgeitems:\n\u001b[1;32m    260\u001b[0m     slices \u001b[38;5;241m=\u001b[39m (\n\u001b[1;32m    261\u001b[0m         [\n\u001b[1;32m    262\u001b[0m             _tensor_str_with_formatter(\n\u001b[1;32m    263\u001b[0m                 \u001b[38;5;28mself\u001b[39m[i], indent \u001b[38;5;241m+\u001b[39m \u001b[38;5;241m1\u001b[39m, summarize, formatter1, formatter2\n\u001b[1;32m    264\u001b[0m             )\n\u001b[1;32m    265\u001b[0m             \u001b[38;5;28;01mfor\u001b[39;00m i \u001b[38;5;129;01min\u001b[39;00m \u001b[38;5;28mrange\u001b[39m(\u001b[38;5;241m0\u001b[39m, PRINT_OPTS\u001b[38;5;241m.\u001b[39medgeitems)\n\u001b[1;32m    266\u001b[0m         ]\n\u001b[1;32m    267\u001b[0m         \u001b[38;5;241m+\u001b[39m [\u001b[38;5;124m\"\u001b[39m\u001b[38;5;124m...\u001b[39m\u001b[38;5;124m\"\u001b[39m]\n\u001b[1;32m    268\u001b[0m         \u001b[38;5;241m+\u001b[39m [\n\u001b[0;32m--> 269\u001b[0m             \u001b[43m_tensor_str_with_formatter\u001b[49m\u001b[43m(\u001b[49m\n\u001b[1;32m    270\u001b[0m \u001b[43m                \u001b[49m\u001b[38;5;28;43mself\u001b[39;49m\u001b[43m[\u001b[49m\u001b[43mi\u001b[49m\u001b[43m]\u001b[49m\u001b[43m,\u001b[49m\u001b[43m \u001b[49m\u001b[43mindent\u001b[49m\u001b[43m \u001b[49m\u001b[38;5;241;43m+\u001b[39;49m\u001b[43m \u001b[49m\u001b[38;5;241;43m1\u001b[39;49m\u001b[43m,\u001b[49m\u001b[43m \u001b[49m\u001b[43msummarize\u001b[49m\u001b[43m,\u001b[49m\u001b[43m \u001b[49m\u001b[43mformatter1\u001b[49m\u001b[43m,\u001b[49m\u001b[43m \u001b[49m\u001b[43mformatter2\u001b[49m\n\u001b[1;32m    271\u001b[0m \u001b[43m            \u001b[49m\u001b[43m)\u001b[49m\n\u001b[1;32m    272\u001b[0m             \u001b[38;5;28;01mfor\u001b[39;00m i \u001b[38;5;129;01min\u001b[39;00m \u001b[38;5;28mrange\u001b[39m(\u001b[38;5;28mlen\u001b[39m(\u001b[38;5;28mself\u001b[39m) \u001b[38;5;241m-\u001b[39m PRINT_OPTS\u001b[38;5;241m.\u001b[39medgeitems, \u001b[38;5;28mlen\u001b[39m(\u001b[38;5;28mself\u001b[39m))\n\u001b[1;32m    273\u001b[0m         ]\n\u001b[1;32m    274\u001b[0m     )\n\u001b[1;32m    275\u001b[0m \u001b[38;5;28;01melse\u001b[39;00m:\n\u001b[1;32m    276\u001b[0m     slices \u001b[38;5;241m=\u001b[39m [\n\u001b[1;32m    277\u001b[0m         _tensor_str_with_formatter(\n\u001b[1;32m    278\u001b[0m             \u001b[38;5;28mself\u001b[39m[i], indent \u001b[38;5;241m+\u001b[39m \u001b[38;5;241m1\u001b[39m, summarize, formatter1, formatter2\n\u001b[1;32m    279\u001b[0m         )\n\u001b[1;32m    280\u001b[0m         \u001b[38;5;28;01mfor\u001b[39;00m i \u001b[38;5;129;01min\u001b[39;00m \u001b[38;5;28mrange\u001b[39m(\u001b[38;5;241m0\u001b[39m, \u001b[38;5;28mself\u001b[39m\u001b[38;5;241m.\u001b[39msize(\u001b[38;5;241m0\u001b[39m))\n\u001b[1;32m    281\u001b[0m     ]\n",
      "File \u001b[0;32m/home/woody/i9vl/i9vl106h/software/privat/conda/envs/imaginaire/lib/python3.8/site-packages/torch/_tensor_str.py:276\u001b[0m, in \u001b[0;36m_tensor_str_with_formatter\u001b[0;34m(self, indent, summarize, formatter1, formatter2)\u001b[0m\n\u001b[1;32m    260\u001b[0m     slices \u001b[38;5;241m=\u001b[39m (\n\u001b[1;32m    261\u001b[0m         [\n\u001b[1;32m    262\u001b[0m             _tensor_str_with_formatter(\n\u001b[0;32m   (...)\u001b[0m\n\u001b[1;32m    273\u001b[0m         ]\n\u001b[1;32m    274\u001b[0m     )\n\u001b[1;32m    275\u001b[0m \u001b[38;5;28;01melse\u001b[39;00m:\n\u001b[0;32m--> 276\u001b[0m     slices \u001b[38;5;241m=\u001b[39m [\n\u001b[1;32m    277\u001b[0m         _tensor_str_with_formatter(\n\u001b[1;32m    278\u001b[0m             \u001b[38;5;28mself\u001b[39m[i], indent \u001b[38;5;241m+\u001b[39m \u001b[38;5;241m1\u001b[39m, summarize, formatter1, formatter2\n\u001b[1;32m    279\u001b[0m         )\n\u001b[1;32m    280\u001b[0m         \u001b[38;5;28;01mfor\u001b[39;00m i \u001b[38;5;129;01min\u001b[39;00m \u001b[38;5;28mrange\u001b[39m(\u001b[38;5;241m0\u001b[39m, \u001b[38;5;28mself\u001b[39m\u001b[38;5;241m.\u001b[39msize(\u001b[38;5;241m0\u001b[39m))\n\u001b[1;32m    281\u001b[0m     ]\n\u001b[1;32m    283\u001b[0m tensor_str \u001b[38;5;241m=\u001b[39m (\u001b[38;5;124m\"\u001b[39m\u001b[38;5;124m,\u001b[39m\u001b[38;5;124m\"\u001b[39m \u001b[38;5;241m+\u001b[39m \u001b[38;5;124m\"\u001b[39m\u001b[38;5;130;01m\\n\u001b[39;00m\u001b[38;5;124m\"\u001b[39m \u001b[38;5;241m*\u001b[39m (dim \u001b[38;5;241m-\u001b[39m \u001b[38;5;241m1\u001b[39m) \u001b[38;5;241m+\u001b[39m \u001b[38;5;124m\"\u001b[39m\u001b[38;5;124m \u001b[39m\u001b[38;5;124m\"\u001b[39m \u001b[38;5;241m*\u001b[39m (indent \u001b[38;5;241m+\u001b[39m \u001b[38;5;241m1\u001b[39m))\u001b[38;5;241m.\u001b[39mjoin(slices)\n\u001b[1;32m    284\u001b[0m \u001b[38;5;28;01mreturn\u001b[39;00m \u001b[38;5;124m\"\u001b[39m\u001b[38;5;124m[\u001b[39m\u001b[38;5;124m\"\u001b[39m \u001b[38;5;241m+\u001b[39m tensor_str \u001b[38;5;241m+\u001b[39m \u001b[38;5;124m\"\u001b[39m\u001b[38;5;124m]\u001b[39m\u001b[38;5;124m\"\u001b[39m\n",
      "File \u001b[0;32m/home/woody/i9vl/i9vl106h/software/privat/conda/envs/imaginaire/lib/python3.8/site-packages/torch/_tensor_str.py:277\u001b[0m, in \u001b[0;36m<listcomp>\u001b[0;34m(.0)\u001b[0m\n\u001b[1;32m    260\u001b[0m     slices \u001b[38;5;241m=\u001b[39m (\n\u001b[1;32m    261\u001b[0m         [\n\u001b[1;32m    262\u001b[0m             _tensor_str_with_formatter(\n\u001b[0;32m   (...)\u001b[0m\n\u001b[1;32m    273\u001b[0m         ]\n\u001b[1;32m    274\u001b[0m     )\n\u001b[1;32m    275\u001b[0m \u001b[38;5;28;01melse\u001b[39;00m:\n\u001b[1;32m    276\u001b[0m     slices \u001b[38;5;241m=\u001b[39m [\n\u001b[0;32m--> 277\u001b[0m         \u001b[43m_tensor_str_with_formatter\u001b[49m\u001b[43m(\u001b[49m\n\u001b[1;32m    278\u001b[0m \u001b[43m            \u001b[49m\u001b[38;5;28;43mself\u001b[39;49m\u001b[43m[\u001b[49m\u001b[43mi\u001b[49m\u001b[43m]\u001b[49m\u001b[43m,\u001b[49m\u001b[43m \u001b[49m\u001b[43mindent\u001b[49m\u001b[43m \u001b[49m\u001b[38;5;241;43m+\u001b[39;49m\u001b[43m \u001b[49m\u001b[38;5;241;43m1\u001b[39;49m\u001b[43m,\u001b[49m\u001b[43m \u001b[49m\u001b[43msummarize\u001b[49m\u001b[43m,\u001b[49m\u001b[43m \u001b[49m\u001b[43mformatter1\u001b[49m\u001b[43m,\u001b[49m\u001b[43m \u001b[49m\u001b[43mformatter2\u001b[49m\n\u001b[1;32m    279\u001b[0m \u001b[43m        \u001b[49m\u001b[43m)\u001b[49m\n\u001b[1;32m    280\u001b[0m         \u001b[38;5;28;01mfor\u001b[39;00m i \u001b[38;5;129;01min\u001b[39;00m \u001b[38;5;28mrange\u001b[39m(\u001b[38;5;241m0\u001b[39m, \u001b[38;5;28mself\u001b[39m\u001b[38;5;241m.\u001b[39msize(\u001b[38;5;241m0\u001b[39m))\n\u001b[1;32m    281\u001b[0m     ]\n\u001b[1;32m    283\u001b[0m tensor_str \u001b[38;5;241m=\u001b[39m (\u001b[38;5;124m\"\u001b[39m\u001b[38;5;124m,\u001b[39m\u001b[38;5;124m\"\u001b[39m \u001b[38;5;241m+\u001b[39m \u001b[38;5;124m\"\u001b[39m\u001b[38;5;130;01m\\n\u001b[39;00m\u001b[38;5;124m\"\u001b[39m \u001b[38;5;241m*\u001b[39m (dim \u001b[38;5;241m-\u001b[39m \u001b[38;5;241m1\u001b[39m) \u001b[38;5;241m+\u001b[39m \u001b[38;5;124m\"\u001b[39m\u001b[38;5;124m \u001b[39m\u001b[38;5;124m\"\u001b[39m \u001b[38;5;241m*\u001b[39m (indent \u001b[38;5;241m+\u001b[39m \u001b[38;5;241m1\u001b[39m))\u001b[38;5;241m.\u001b[39mjoin(slices)\n\u001b[1;32m    284\u001b[0m \u001b[38;5;28;01mreturn\u001b[39;00m \u001b[38;5;124m\"\u001b[39m\u001b[38;5;124m[\u001b[39m\u001b[38;5;124m\"\u001b[39m \u001b[38;5;241m+\u001b[39m tensor_str \u001b[38;5;241m+\u001b[39m \u001b[38;5;124m\"\u001b[39m\u001b[38;5;124m]\u001b[39m\u001b[38;5;124m\"\u001b[39m\n",
      "File \u001b[0;32m/home/woody/i9vl/i9vl106h/software/privat/conda/envs/imaginaire/lib/python3.8/site-packages/torch/_tensor_str.py:257\u001b[0m, in \u001b[0;36m_tensor_str_with_formatter\u001b[0;34m(self, indent, summarize, formatter1, formatter2)\u001b[0m\n\u001b[1;32m    254\u001b[0m     \u001b[38;5;28;01mreturn\u001b[39;00m _scalar_str(\u001b[38;5;28mself\u001b[39m, formatter1, formatter2)\n\u001b[1;32m    256\u001b[0m \u001b[38;5;28;01mif\u001b[39;00m dim \u001b[38;5;241m==\u001b[39m \u001b[38;5;241m1\u001b[39m:\n\u001b[0;32m--> 257\u001b[0m     \u001b[38;5;28;01mreturn\u001b[39;00m \u001b[43m_vector_str\u001b[49m\u001b[43m(\u001b[49m\u001b[38;5;28;43mself\u001b[39;49m\u001b[43m,\u001b[49m\u001b[43m \u001b[49m\u001b[43mindent\u001b[49m\u001b[43m,\u001b[49m\u001b[43m \u001b[49m\u001b[43msummarize\u001b[49m\u001b[43m,\u001b[49m\u001b[43m \u001b[49m\u001b[43mformatter1\u001b[49m\u001b[43m,\u001b[49m\u001b[43m \u001b[49m\u001b[43mformatter2\u001b[49m\u001b[43m)\u001b[49m\n\u001b[1;32m    259\u001b[0m \u001b[38;5;28;01mif\u001b[39;00m summarize \u001b[38;5;129;01mand\u001b[39;00m \u001b[38;5;28mself\u001b[39m\u001b[38;5;241m.\u001b[39msize(\u001b[38;5;241m0\u001b[39m) \u001b[38;5;241m>\u001b[39m \u001b[38;5;241m2\u001b[39m \u001b[38;5;241m*\u001b[39m PRINT_OPTS\u001b[38;5;241m.\u001b[39medgeitems:\n\u001b[1;32m    260\u001b[0m     slices \u001b[38;5;241m=\u001b[39m (\n\u001b[1;32m    261\u001b[0m         [\n\u001b[1;32m    262\u001b[0m             _tensor_str_with_formatter(\n\u001b[0;32m   (...)\u001b[0m\n\u001b[1;32m    273\u001b[0m         ]\n\u001b[1;32m    274\u001b[0m     )\n",
      "File \u001b[0;32m/home/woody/i9vl/i9vl106h/software/privat/conda/envs/imaginaire/lib/python3.8/site-packages/torch/_tensor_str.py:238\u001b[0m, in \u001b[0;36m_vector_str\u001b[0;34m(self, indent, summarize, formatter1, formatter2)\u001b[0m\n\u001b[1;32m    232\u001b[0m     data \u001b[38;5;241m=\u001b[39m (\n\u001b[1;32m    233\u001b[0m         [_val_formatter(val) \u001b[38;5;28;01mfor\u001b[39;00m val \u001b[38;5;129;01min\u001b[39;00m \u001b[38;5;28mself\u001b[39m[: PRINT_OPTS\u001b[38;5;241m.\u001b[39medgeitems]\u001b[38;5;241m.\u001b[39mtolist()]\n\u001b[1;32m    234\u001b[0m         \u001b[38;5;241m+\u001b[39m [\u001b[38;5;124m\"\u001b[39m\u001b[38;5;124m ...\u001b[39m\u001b[38;5;124m\"\u001b[39m]\n\u001b[1;32m    235\u001b[0m         \u001b[38;5;241m+\u001b[39m [_val_formatter(val) \u001b[38;5;28;01mfor\u001b[39;00m val \u001b[38;5;129;01min\u001b[39;00m \u001b[38;5;28mself\u001b[39m[\u001b[38;5;241m-\u001b[39mPRINT_OPTS\u001b[38;5;241m.\u001b[39medgeitems :]\u001b[38;5;241m.\u001b[39mtolist()]\n\u001b[1;32m    236\u001b[0m     )\n\u001b[1;32m    237\u001b[0m \u001b[38;5;28;01melse\u001b[39;00m:\n\u001b[0;32m--> 238\u001b[0m     data \u001b[38;5;241m=\u001b[39m [_val_formatter(val) \u001b[38;5;28;01mfor\u001b[39;00m val \u001b[38;5;129;01min\u001b[39;00m \u001b[38;5;28mself\u001b[39m\u001b[38;5;241m.\u001b[39mtolist()]\n\u001b[1;32m    240\u001b[0m data_lines \u001b[38;5;241m=\u001b[39m [\n\u001b[1;32m    241\u001b[0m     data[i : i \u001b[38;5;241m+\u001b[39m elements_per_line] \u001b[38;5;28;01mfor\u001b[39;00m i \u001b[38;5;129;01min\u001b[39;00m \u001b[38;5;28mrange\u001b[39m(\u001b[38;5;241m0\u001b[39m, \u001b[38;5;28mlen\u001b[39m(data), elements_per_line)\n\u001b[1;32m    242\u001b[0m ]\n\u001b[1;32m    243\u001b[0m lines \u001b[38;5;241m=\u001b[39m [\u001b[38;5;124m\"\u001b[39m\u001b[38;5;124m, \u001b[39m\u001b[38;5;124m\"\u001b[39m\u001b[38;5;241m.\u001b[39mjoin(line) \u001b[38;5;28;01mfor\u001b[39;00m line \u001b[38;5;129;01min\u001b[39;00m data_lines]\n",
      "File \u001b[0;32m/home/woody/i9vl/i9vl106h/software/privat/conda/envs/imaginaire/lib/python3.8/site-packages/torch/_tensor_str.py:238\u001b[0m, in \u001b[0;36m<listcomp>\u001b[0;34m(.0)\u001b[0m\n\u001b[1;32m    232\u001b[0m     data \u001b[38;5;241m=\u001b[39m (\n\u001b[1;32m    233\u001b[0m         [_val_formatter(val) \u001b[38;5;28;01mfor\u001b[39;00m val \u001b[38;5;129;01min\u001b[39;00m \u001b[38;5;28mself\u001b[39m[: PRINT_OPTS\u001b[38;5;241m.\u001b[39medgeitems]\u001b[38;5;241m.\u001b[39mtolist()]\n\u001b[1;32m    234\u001b[0m         \u001b[38;5;241m+\u001b[39m [\u001b[38;5;124m\"\u001b[39m\u001b[38;5;124m ...\u001b[39m\u001b[38;5;124m\"\u001b[39m]\n\u001b[1;32m    235\u001b[0m         \u001b[38;5;241m+\u001b[39m [_val_formatter(val) \u001b[38;5;28;01mfor\u001b[39;00m val \u001b[38;5;129;01min\u001b[39;00m \u001b[38;5;28mself\u001b[39m[\u001b[38;5;241m-\u001b[39mPRINT_OPTS\u001b[38;5;241m.\u001b[39medgeitems :]\u001b[38;5;241m.\u001b[39mtolist()]\n\u001b[1;32m    236\u001b[0m     )\n\u001b[1;32m    237\u001b[0m \u001b[38;5;28;01melse\u001b[39;00m:\n\u001b[0;32m--> 238\u001b[0m     data \u001b[38;5;241m=\u001b[39m [\u001b[43m_val_formatter\u001b[49m\u001b[43m(\u001b[49m\u001b[43mval\u001b[49m\u001b[43m)\u001b[49m \u001b[38;5;28;01mfor\u001b[39;00m val \u001b[38;5;129;01min\u001b[39;00m \u001b[38;5;28mself\u001b[39m\u001b[38;5;241m.\u001b[39mtolist()]\n\u001b[1;32m    240\u001b[0m data_lines \u001b[38;5;241m=\u001b[39m [\n\u001b[1;32m    241\u001b[0m     data[i : i \u001b[38;5;241m+\u001b[39m elements_per_line] \u001b[38;5;28;01mfor\u001b[39;00m i \u001b[38;5;129;01min\u001b[39;00m \u001b[38;5;28mrange\u001b[39m(\u001b[38;5;241m0\u001b[39m, \u001b[38;5;28mlen\u001b[39m(data), elements_per_line)\n\u001b[1;32m    242\u001b[0m ]\n\u001b[1;32m    243\u001b[0m lines \u001b[38;5;241m=\u001b[39m [\u001b[38;5;124m\"\u001b[39m\u001b[38;5;124m, \u001b[39m\u001b[38;5;124m\"\u001b[39m\u001b[38;5;241m.\u001b[39mjoin(line) \u001b[38;5;28;01mfor\u001b[39;00m line \u001b[38;5;129;01min\u001b[39;00m data_lines]\n",
      "File \u001b[0;32m/home/woody/i9vl/i9vl106h/software/privat/conda/envs/imaginaire/lib/python3.8/site-packages/torch/_tensor_str.py:229\u001b[0m, in \u001b[0;36m_vector_str.<locals>._val_formatter\u001b[0;34m(val, formatter1, formatter2)\u001b[0m\n\u001b[1;32m    227\u001b[0m         \u001b[38;5;28;01mreturn\u001b[39;00m real_str \u001b[38;5;241m+\u001b[39m \u001b[38;5;124m\"\u001b[39m\u001b[38;5;124m+\u001b[39m\u001b[38;5;124m\"\u001b[39m \u001b[38;5;241m+\u001b[39m imag_str\n\u001b[1;32m    228\u001b[0m \u001b[38;5;28;01melse\u001b[39;00m:\n\u001b[0;32m--> 229\u001b[0m     \u001b[38;5;28;01mreturn\u001b[39;00m \u001b[43mformatter1\u001b[49m\u001b[38;5;241;43m.\u001b[39;49m\u001b[43mformat\u001b[49m\u001b[43m(\u001b[49m\u001b[43mval\u001b[49m\u001b[43m)\u001b[49m\n",
      "File \u001b[0;32m/home/woody/i9vl/i9vl106h/software/privat/conda/envs/imaginaire/lib/python3.8/site-packages/torch/_tensor_str.py:180\u001b[0m, in \u001b[0;36m_Formatter.format\u001b[0;34m(self, value)\u001b[0m\n\u001b[1;32m    177\u001b[0m \u001b[38;5;28;01mif\u001b[39;00m \u001b[38;5;28mself\u001b[39m\u001b[38;5;241m.\u001b[39mfloating_dtype:\n\u001b[1;32m    178\u001b[0m     \u001b[38;5;28;01mif\u001b[39;00m \u001b[38;5;28mself\u001b[39m\u001b[38;5;241m.\u001b[39msci_mode:\n\u001b[1;32m    179\u001b[0m         ret \u001b[38;5;241m=\u001b[39m (\n\u001b[0;32m--> 180\u001b[0m             \u001b[43m(\u001b[49m\u001b[38;5;124;43m\"\u001b[39;49m\u001b[38;5;124;43m{{\u001b[39;49m\u001b[38;5;124;43m:\u001b[39;49m\u001b[38;5;132;43;01m{}\u001b[39;49;00m\u001b[38;5;124;43m.\u001b[39;49m\u001b[38;5;132;43;01m{}\u001b[39;49;00m\u001b[38;5;124;43me}}\u001b[39;49m\u001b[38;5;124;43m\"\u001b[39;49m\u001b[43m)\u001b[49m\n\u001b[1;32m    181\u001b[0m \u001b[43m            \u001b[49m\u001b[38;5;241;43m.\u001b[39;49m\u001b[43mformat\u001b[49m\u001b[43m(\u001b[49m\u001b[38;5;28;43mself\u001b[39;49m\u001b[38;5;241;43m.\u001b[39;49m\u001b[43mmax_width\u001b[49m\u001b[43m,\u001b[49m\u001b[43m \u001b[49m\u001b[43mPRINT_OPTS\u001b[49m\u001b[38;5;241;43m.\u001b[39;49m\u001b[43mprecision\u001b[49m\u001b[43m)\u001b[49m\n\u001b[1;32m    182\u001b[0m \u001b[43m            \u001b[49m\u001b[38;5;241;43m.\u001b[39;49m\u001b[43mformat\u001b[49m\u001b[43m(\u001b[49m\u001b[43mvalue\u001b[49m\u001b[43m)\u001b[49m\n\u001b[1;32m    183\u001b[0m         )\n\u001b[1;32m    184\u001b[0m     \u001b[38;5;28;01melif\u001b[39;00m \u001b[38;5;28mself\u001b[39m\u001b[38;5;241m.\u001b[39mint_mode:\n\u001b[1;32m    185\u001b[0m         ret \u001b[38;5;241m=\u001b[39m \u001b[38;5;124m\"\u001b[39m\u001b[38;5;132;01m{:.0f}\u001b[39;00m\u001b[38;5;124m\"\u001b[39m\u001b[38;5;241m.\u001b[39mformat(value)\n",
      "\u001b[0;31mKeyboardInterrupt\u001b[0m: "
     ]
    }
   ],
   "source": [
    "checkpoint.keys"
   ]
  },
  {
   "cell_type": "code",
   "execution_count": 1,
   "id": "ce5f143d",
   "metadata": {
    "tags": []
   },
   "outputs": [],
   "source": [
    "import argparse\n",
    "import os\n",
    "import sys\n",
    "import random\n",
    "\n",
    "import torch.autograd.profiler as profiler\n",
    "import wandb\n",
    "\n",
    "import imaginaire.config\n",
    "from imaginaire.config import Config\n",
    "from imaginaire.utils.cudnn import init_cudnn\n",
    "from imaginaire.utils.dataset import get_train_and_val_dataloader\n",
    "from imaginaire.utils.distributed import init_dist, is_master, get_world_size\n",
    "from imaginaire.utils.distributed import master_only_print as print\n",
    "# from imaginaire.utils.gpu_affinity import set_affinity\n",
    "from imaginaire.utils.misc import slice_tensor\n",
    "from imaginaire.utils.logging import init_logging, make_logging_dir\n",
    "from imaginaire.utils.trainer import (get_model_optimizer_and_scheduler,\n",
    "                                      get_trainer, set_random_seed)\n",
    "\n",
    "sys.path.append(os.environ.get('SUBMIT_SCRIPTS', '.'))"
   ]
  },
  {
   "cell_type": "code",
   "execution_count": 2,
   "id": "8277377d",
   "metadata": {},
   "outputs": [],
   "source": [
    "config = \"/home/hpc/i9vl/i9vl106h/imaginaire/configs/projects/spade/kitti/base128_bs4_lmdb.yaml\""
   ]
  },
  {
   "cell_type": "code",
   "execution_count": 3,
   "id": "eb63704a",
   "metadata": {},
   "outputs": [],
   "source": [
    "def parse_args():\n",
    "    parser = argparse.ArgumentParser(description='Training')\n",
    "    parser.add_argument('--config',\n",
    "                        help='Path to the training config file.', required=True)\n",
    "    parser.add_argument('--logdir', help='Dir for saving logs and models.')\n",
    "    parser.add_argument('--checkpoint', default='', help='Checkpoint path.')\n",
    "    parser.add_argument('--seed', type=int, default=2, help='Random seed.')\n",
    "    parser.add_argument('--randomized_seed', action='store_true', help='Use a random seed between 0-10000.')\n",
    "    parser.add_argument('--local_rank', type=int, default=os.getenv('LOCAL_RANK', 0))\n",
    "    parser.add_argument('--single_gpu', action='store_true')\n",
    "    parser.add_argument('--debug', action='store_true')\n",
    "    parser.add_argument('--use_jit', action='store_true')\n",
    "    parser.add_argument('--profile', action='store_true')\n",
    "    parser.add_argument('--wandb', action='store_true')\n",
    "    parser.add_argument('--wandb_name', default='default', type=str)\n",
    "    parser.add_argument('--wandb_id', type=str)\n",
    "    parser.add_argument('--resume', type=int)\n",
    "    parser.add_argument('--num_workers', type=int)\n",
    "    args = parser.parse_args()\n",
    "    return args\n"
   ]
  },
  {
   "cell_type": "code",
   "execution_count": 4,
   "id": "a6d6c60e",
   "metadata": {},
   "outputs": [],
   "source": [
    "cfg = Config(config)"
   ]
  },
  {
   "cell_type": "code",
   "execution_count": 5,
   "id": "08a05a31",
   "metadata": {},
   "outputs": [
    {
     "name": "stdout",
     "output_type": "stream",
     "text": [
      "LMDB file at /home/woody/i9vl/i9vl106h/data/kitti/lmdb/train/images opened.\n",
      "LMDB file at /home/woody/i9vl/i9vl106h/data/kitti/lmdb/train/label opened.\n",
      "Num datasets: 1\n",
      "Num sequences: 1\n",
      "Max sequence length: 4022\n",
      "LMDB file at /home/woody/i9vl/i9vl106h/data/kitti/lmdb/val/images opened.\n",
      "LMDB file at /home/woody/i9vl/i9vl106h/data/kitti/lmdb/val/label opened.\n",
      "Num datasets: 1\n",
      "Num sequences: 1\n",
      "Max sequence length: 1005\n",
      "Train dataset length: 4022\n",
      "Val dataset length: 1005\n"
     ]
    }
   ],
   "source": [
    "train_data_loader, val_data_loader = get_train_and_val_dataloader(cfg, 42)"
   ]
  },
  {
   "cell_type": "code",
   "execution_count": 6,
   "id": "61a4a91b",
   "metadata": {},
   "outputs": [],
   "source": [
    "from matplotlib import pyplot as plt"
   ]
  },
  {
   "cell_type": "code",
   "execution_count": 13,
   "id": "4befc2b1",
   "metadata": {},
   "outputs": [
    {
     "name": "stdout",
     "output_type": "stream",
     "text": [
      "Using random seed 42\n",
      "SPADE generator initialization.\n",
      "Concatenate images:\n",
      "    ext: png\n",
      "    num_channels: 1\n",
      "    normalize: False\n",
      "    is_mask: False\n",
      "    pre_aug_ops: None\n",
      "    post_aug_ops: None\n",
      "    computed_on_the_fly: False for input.\n",
      "\tNum. of channels in the input image: 1\n",
      "Concatenate images:\n",
      "    ext: png\n",
      "    num_channels: 1\n",
      "    normalize: False\n",
      "    is_mask: False\n",
      "    pre_aug_ops: None\n",
      "    post_aug_ops: None\n",
      "    computed_on_the_fly: False for input.\n",
      "Concatenate label:\n",
      "    ext: png\n",
      "    num_channels: 3\n",
      "    normalize: True\n",
      "    use_dont_care: False\n",
      "    is_mask: False\n",
      "    pre_aug_ops: None\n",
      "    post_aug_ops: None\n",
      "    computed_on_the_fly: False for input.\n",
      "\tNum. of channels in the input label: 3\n",
      "dict_keys(['resize_smallest_side', 'rotate', 'random_scale_limit', 'horizontal_flip', 'random_crop_h_w'])\n",
      "\tCrop size: (256, 1000)\n",
      "\tStyle code dimensions: 256\n",
      "\tBase filter number: 128\n",
      "\tConvolution kernel size: 3\n",
      "\tWeight norm type: spectral\n",
      "num_filters: 128\n",
      "kernel_size: 5\n",
      "separate_projection: True\n",
      "activation_norm_type: sync_batch\n",
      "activation_norm_params: namespace(affine=True)\n",
      "cond_dims: 3\n",
      "weight_norm_type: spectral\n"
     ]
    },
    {
     "name": "stderr",
     "output_type": "stream",
     "text": [
      "/home/woody/i9vl/i9vl106h/software/privat/conda/envs/imaginaire/lib/python3.8/site-packages/torch/functional.py:504: UserWarning: torch.meshgrid: in an upcoming release, it will be required to pass the indexing argument. (Triggered internally at ../aten/src/ATen/native/TensorShape.cpp:3483.)\n",
      "  return _VF.meshgrid(tensors, **kwargs)  # type: ignore[attr-defined]\n"
     ]
    },
    {
     "name": "stdout",
     "output_type": "stream",
     "text": [
      "Done with the SPADE generator initialization.\n",
      "Multi-resolution patch discriminator initialization.\n",
      "Concatenate images:\n",
      "    ext: png\n",
      "    num_channels: 1\n",
      "    normalize: False\n",
      "    is_mask: False\n",
      "    pre_aug_ops: None\n",
      "    post_aug_ops: None\n",
      "    computed_on_the_fly: False for input.\n",
      "\tNum. of channels in the input image: 1\n",
      "Concatenate images:\n",
      "    ext: png\n",
      "    num_channels: 1\n",
      "    normalize: False\n",
      "    is_mask: False\n",
      "    pre_aug_ops: None\n",
      "    post_aug_ops: None\n",
      "    computed_on_the_fly: False for input.\n",
      "Concatenate label:\n",
      "    ext: png\n",
      "    num_channels: 3\n",
      "    normalize: True\n",
      "    use_dont_care: False\n",
      "    is_mask: False\n",
      "    pre_aug_ops: None\n",
      "    post_aug_ops: None\n",
      "    computed_on_the_fly: False for input.\n",
      "\tNum. of channels in the input label: 3\n",
      "\tBase filter number: 128\n",
      "\tNumber of discriminators: 2\n",
      "\tNumber of layers in a discriminator: 5\n",
      "\tWeight norm type: spectral\n",
      "Done with the Multi-resolution patch discriminator initialization.\n",
      "Initialize net_G and net_D weights using type: xavier gain: 0.02\n",
      "Using random seed 42\n",
      "net_G parameter count: 402,576,641\n",
      "net_D parameter count: 51,124,227\n"
     ]
    }
   ],
   "source": [
    "net_G, net_D, opt_G, opt_D, sch_G, sch_D = \\\n",
    "        get_model_optimizer_and_scheduler(cfg, seed=42)"
   ]
  },
  {
   "cell_type": "code",
   "execution_count": 14,
   "id": "ee92de58",
   "metadata": {},
   "outputs": [
    {
     "name": "stdout",
     "output_type": "stream",
     "text": [
      "Setup trainer.\n",
      "Using automatic mixed precision training.\n",
      "Augmentation policy: \n",
      "GAN mode: hinge\n"
     ]
    },
    {
     "name": "stderr",
     "output_type": "stream",
     "text": [
      "/home/woody/i9vl/i9vl106h/software/privat/conda/envs/imaginaire/lib/python3.8/site-packages/torchvision/models/_utils.py:208: UserWarning: The parameter 'pretrained' is deprecated since 0.13 and may be removed in the future, please use 'weights' instead.\n",
      "  warnings.warn(\n",
      "/home/woody/i9vl/i9vl106h/software/privat/conda/envs/imaginaire/lib/python3.8/site-packages/torchvision/models/_utils.py:223: UserWarning: Arguments other than a weight enum or `None` for 'weights' are deprecated since 0.13 and may be removed in the future. The current behavior is equivalent to passing `weights=VGG19_Weights.IMAGENET1K_V1`. You can also use `weights=VGG19_Weights.DEFAULT` to get the most up-to-date weights.\n",
      "  warnings.warn(msg)\n"
     ]
    },
    {
     "name": "stdout",
     "output_type": "stream",
     "text": [
      "Perceptual loss:\n",
      "\tMode: vgg19\n",
      "Loss GAN                  Weight 1.0\n",
      "Loss Perceptual           Weight 10.0\n",
      "Loss FeatureMatching      Weight 10.0\n",
      "Loss GaussianKL           Weight 0.05\n"
     ]
    }
   ],
   "source": [
    "trainer = get_trainer(cfg, net_G, net_D,\n",
    "                          opt_G, opt_D,\n",
    "                          sch_G, sch_D,\n",
    "                          train_data_loader, val_data_loader)\n",
    "    "
   ]
  },
  {
   "cell_type": "code",
   "execution_count": 6,
   "id": "f7e2707f",
   "metadata": {},
   "outputs": [
    {
     "name": "stderr",
     "output_type": "stream",
     "text": [
      "/home/hpc/i9vl/i9vl106h/.local/lib/python3.8/site-packages/albumentations/core/transforms_interface.py:113: UserWarning: Rotate could work incorrectly in ReplayMode for other input data because its' params depend on targets.\n",
      "  warn(\n",
      "/home/hpc/i9vl/i9vl106h/.local/lib/python3.8/site-packages/albumentations/core/transforms_interface.py:113: UserWarning: Rotate could work incorrectly in ReplayMode for other input data because its' params depend on targets.\n",
      "  warn(\n",
      "/home/hpc/i9vl/i9vl106h/.local/lib/python3.8/site-packages/albumentations/core/transforms_interface.py:113: UserWarning: Rotate could work incorrectly in ReplayMode for other input data because its' params depend on targets.\n",
      "  warn(\n",
      "/home/hpc/i9vl/i9vl106h/.local/lib/python3.8/site-packages/albumentations/core/transforms_interface.py:113: UserWarning: Rotate could work incorrectly in ReplayMode for other input data because its' params depend on targets.\n",
      "  warn(\n",
      "/home/hpc/i9vl/i9vl106h/.local/lib/python3.8/site-packages/albumentations/core/transforms_interface.py:113: UserWarning: Rotate could work incorrectly in ReplayMode for other input data because its' params depend on targets.\n",
      "  warn(\n",
      "/home/hpc/i9vl/i9vl106h/.local/lib/python3.8/site-packages/albumentations/core/transforms_interface.py:113: UserWarning: Rotate could work incorrectly in ReplayMode for other input data because its' params depend on targets.\n",
      "  warn(\n",
      "/home/hpc/i9vl/i9vl106h/.local/lib/python3.8/site-packages/albumentations/core/transforms_interface.py:113: UserWarning: Rotate could work incorrectly in ReplayMode for other input data because its' params depend on targets.\n",
      "  warn(\n",
      "/home/hpc/i9vl/i9vl106h/.local/lib/python3.8/site-packages/albumentations/core/transforms_interface.py:113: UserWarning: Rotate could work incorrectly in ReplayMode for other input data because its' params depend on targets.\n",
      "  warn(\n"
     ]
    }
   ],
   "source": [
    "batch = next(iter(train_data_loader))"
   ]
  },
  {
   "cell_type": "code",
   "execution_count": 11,
   "id": "bc136a3d",
   "metadata": {},
   "outputs": [],
   "source": [
    "current_epoch = 0\n",
    "current_iteration = 0\n",
    "batch_size = 2"
   ]
  },
  {
   "cell_type": "code",
   "execution_count": 15,
   "id": "75a7c6de",
   "metadata": {},
   "outputs": [
    {
     "name": "stdout",
     "output_type": "stream",
     "text": [
      "Epoch 0 ...\n"
     ]
    },
    {
     "name": "stderr",
     "output_type": "stream",
     "text": [
      "/home/hpc/i9vl/i9vl106h/.local/lib/python3.8/site-packages/albumentations/core/transforms_interface.py:113: UserWarning: Rotate could work incorrectly in ReplayMode for other input data because its' params depend on targets.\n",
      "  warn(\n",
      "/home/hpc/i9vl/i9vl106h/.local/lib/python3.8/site-packages/albumentations/core/transforms_interface.py:113: UserWarning: Rotate could work incorrectly in ReplayMode for other input data because its' params depend on targets.\n",
      "  warn(\n",
      "/home/hpc/i9vl/i9vl106h/.local/lib/python3.8/site-packages/albumentations/core/transforms_interface.py:113: UserWarning: Rotate could work incorrectly in ReplayMode for other input data because its' params depend on targets.\n",
      "  warn(\n",
      "/home/hpc/i9vl/i9vl106h/.local/lib/python3.8/site-packages/albumentations/core/transforms_interface.py:113: UserWarning: Rotate could work incorrectly in ReplayMode for other input data because its' params depend on targets.\n",
      "  warn(\n",
      "/home/hpc/i9vl/i9vl106h/.local/lib/python3.8/site-packages/albumentations/core/transforms_interface.py:113: UserWarning: Rotate could work incorrectly in ReplayMode for other input data because its' params depend on targets.\n",
      "  warn(\n",
      "/home/hpc/i9vl/i9vl106h/.local/lib/python3.8/site-packages/albumentations/core/transforms_interface.py:113: UserWarning: Rotate could work incorrectly in ReplayMode for other input data because its' params depend on targets.\n",
      "  warn(\n",
      "/home/hpc/i9vl/i9vl106h/.local/lib/python3.8/site-packages/albumentations/core/transforms_interface.py:113: UserWarning: Rotate could work incorrectly in ReplayMode for other input data because its' params depend on targets.\n",
      "  warn(\n",
      "/home/hpc/i9vl/i9vl106h/.local/lib/python3.8/site-packages/albumentations/core/transforms_interface.py:113: UserWarning: Rotate could work incorrectly in ReplayMode for other input data because its' params depend on targets.\n",
      "  warn(\n"
     ]
    },
    {
     "name": "stdout",
     "output_type": "stream",
     "text": [
      "Generator overflowed!\n",
      "Generator overflowed!\n",
      "Generator overflowed!\n",
      "Generator overflowed!\n",
      "Generator overflowed!\n",
      "Generator overflowed!\n",
      "Generator overflowed!\n",
      "Generator overflowed!\n",
      "Discriminator overflowed!\n",
      "Discriminator overflowed!\n",
      "Discriminator overflowed!\n",
      "Discriminator overflowed!\n",
      "Discriminator overflowed!\n",
      "Discriminator overflowed!\n",
      "Discriminator overflowed!\n",
      "Iteration: 100, average iter time: 0.620528.\n"
     ]
    },
    {
     "ename": "Exception",
     "evalue": "Log writer not set.",
     "output_type": "error",
     "traceback": [
      "\u001b[0;31m---------------------------------------------------------------------------\u001b[0m",
      "\u001b[0;31mException\u001b[0m                                 Traceback (most recent call last)",
      "Cell \u001b[0;32mIn[15], line 21\u001b[0m\n\u001b[1;32m     16\u001b[0m     trainer\u001b[38;5;241m.\u001b[39mgen_update(\n\u001b[1;32m     17\u001b[0m         slice_tensor(data, i \u001b[38;5;241m*\u001b[39m batch_size,\n\u001b[1;32m     18\u001b[0m                         (i \u001b[38;5;241m+\u001b[39m \u001b[38;5;241m1\u001b[39m) \u001b[38;5;241m*\u001b[39m batch_size))\n\u001b[1;32m     20\u001b[0m current_iteration \u001b[38;5;241m+\u001b[39m\u001b[38;5;241m=\u001b[39m \u001b[38;5;241m1\u001b[39m\n\u001b[0;32m---> 21\u001b[0m \u001b[43mtrainer\u001b[49m\u001b[38;5;241;43m.\u001b[39;49m\u001b[43mend_of_iteration\u001b[49m\u001b[43m(\u001b[49m\u001b[43mdata\u001b[49m\u001b[43m,\u001b[49m\u001b[43m \u001b[49m\u001b[43mcurrent_epoch\u001b[49m\u001b[43m,\u001b[49m\u001b[43m \u001b[49m\u001b[43mcurrent_iteration\u001b[49m\u001b[43m)\u001b[49m\n",
      "File \u001b[0;32m~/imaginaire/imaginaire/trainers/base.py:449\u001b[0m, in \u001b[0;36mBaseTrainer.end_of_iteration\u001b[0;34m(self, data, current_epoch, current_iteration)\u001b[0m\n\u001b[1;32m    446\u001b[0m \u001b[38;5;28mself\u001b[39m\u001b[38;5;241m.\u001b[39m_write_tensorboard()\n\u001b[1;32m    447\u001b[0m \u001b[38;5;28;01mif\u001b[39;00m current_iteration \u001b[38;5;241m%\u001b[39m \u001b[38;5;28mself\u001b[39m\u001b[38;5;241m.\u001b[39mcfg\u001b[38;5;241m.\u001b[39mlogging_iter \u001b[38;5;241m==\u001b[39m \u001b[38;5;241m0\u001b[39m:\n\u001b[1;32m    448\u001b[0m     \u001b[38;5;66;03m# Write all logs to tensorboard.\u001b[39;00m\n\u001b[0;32m--> 449\u001b[0m     \u001b[38;5;28;43mself\u001b[39;49m\u001b[38;5;241;43m.\u001b[39;49m\u001b[43m_flush_meters\u001b[49m\u001b[43m(\u001b[49m\u001b[38;5;28;43mself\u001b[39;49m\u001b[38;5;241;43m.\u001b[39;49m\u001b[43mmeters\u001b[49m\u001b[43m)\u001b[49m\n\u001b[1;32m    451\u001b[0m \u001b[38;5;28;01mfrom\u001b[39;00m \u001b[38;5;21;01mtorch\u001b[39;00m\u001b[38;5;21;01m.\u001b[39;00m\u001b[38;5;21;01mdistributed\u001b[39;00m \u001b[38;5;28;01mimport\u001b[39;00m barrier\n\u001b[1;32m    452\u001b[0m \u001b[38;5;28;01mimport\u001b[39;00m \u001b[38;5;21;01mtorch\u001b[39;00m\u001b[38;5;21;01m.\u001b[39;00m\u001b[38;5;21;01mdistributed\u001b[39;00m \u001b[38;5;28;01mas\u001b[39;00m \u001b[38;5;21;01mdist\u001b[39;00m\n",
      "File \u001b[0;32m~/imaginaire/imaginaire/trainers/base.py:227\u001b[0m, in \u001b[0;36mBaseTrainer._flush_meters\u001b[0;34m(self, meters)\u001b[0m\n\u001b[1;32m    225\u001b[0m \u001b[38;5;250m\u001b[39m\u001b[38;5;124mr\u001b[39m\u001b[38;5;124;03m\"\"\"Flush all meters using the current iteration.\"\"\"\u001b[39;00m\n\u001b[1;32m    226\u001b[0m \u001b[38;5;28;01mfor\u001b[39;00m meter \u001b[38;5;129;01min\u001b[39;00m meters\u001b[38;5;241m.\u001b[39mvalues():\n\u001b[0;32m--> 227\u001b[0m     \u001b[43mmeter\u001b[49m\u001b[38;5;241;43m.\u001b[39;49m\u001b[43mflush\u001b[49m\u001b[43m(\u001b[49m\u001b[38;5;28;43mself\u001b[39;49m\u001b[38;5;241;43m.\u001b[39;49m\u001b[43mcurrent_iteration\u001b[49m\u001b[43m)\u001b[49m\n",
      "File \u001b[0;32m~/imaginaire/imaginaire/utils/meters.py:131\u001b[0m, in \u001b[0;36mMeter.flush\u001b[0;34m(self, step)\u001b[0m\n\u001b[1;32m    129\u001b[0m     value \u001b[38;5;241m=\u001b[39m \u001b[38;5;28mfloat\u001b[39m(\u001b[38;5;28msum\u001b[39m(filtered_values)) \u001b[38;5;241m/\u001b[39m \u001b[38;5;28mfloat\u001b[39m(\u001b[38;5;28mlen\u001b[39m(filtered_values))\n\u001b[1;32m    130\u001b[0m     \u001b[38;5;28;01mif\u001b[39;00m is_master():\n\u001b[0;32m--> 131\u001b[0m         \u001b[43mwrite_summary\u001b[49m\u001b[43m(\u001b[49m\u001b[38;5;28;43mself\u001b[39;49m\u001b[38;5;241;43m.\u001b[39;49m\u001b[43mname\u001b[49m\u001b[43m,\u001b[49m\u001b[43m \u001b[49m\u001b[43mvalue\u001b[49m\u001b[43m,\u001b[49m\u001b[43m \u001b[49m\u001b[43mstep\u001b[49m\u001b[43m)\u001b[49m\n\u001b[1;32m    132\u001b[0m         wandb\u001b[38;5;241m.\u001b[39mlog({\u001b[38;5;28mself\u001b[39m\u001b[38;5;241m.\u001b[39mname: value}, step\u001b[38;5;241m=\u001b[39mstep)\n\u001b[1;32m    133\u001b[0m \u001b[38;5;28mself\u001b[39m\u001b[38;5;241m.\u001b[39mreset()\n",
      "File \u001b[0;32m~/imaginaire/imaginaire/utils/meters.py:69\u001b[0m, in \u001b[0;36mwrite_summary\u001b[0;34m(name, summary, step, hist)\u001b[0m\n\u001b[1;32m     67\u001b[0m lw \u001b[38;5;241m=\u001b[39m LOG_WRITER\n\u001b[1;32m     68\u001b[0m \u001b[38;5;28;01mif\u001b[39;00m lw \u001b[38;5;129;01mis\u001b[39;00m \u001b[38;5;28;01mNone\u001b[39;00m:\n\u001b[0;32m---> 69\u001b[0m     \u001b[38;5;28;01mraise\u001b[39;00m \u001b[38;5;167;01mException\u001b[39;00m(\u001b[38;5;124m\"\u001b[39m\u001b[38;5;124mLog writer not set.\u001b[39m\u001b[38;5;124m\"\u001b[39m)\n\u001b[1;32m     70\u001b[0m \u001b[38;5;28;01mif\u001b[39;00m hist:\n\u001b[1;32m     71\u001b[0m     lw\u001b[38;5;241m.\u001b[39madd_histogram(name, summary, step)\n",
      "\u001b[0;31mException\u001b[0m: Log writer not set."
     ]
    }
   ],
   "source": [
    "for epoch in range(current_epoch, cfg.max_epoch):\n",
    "    print('Epoch {} ...'.format(epoch))\n",
    "    trainer.start_of_epoch(current_epoch)\n",
    "    for it, data in enumerate(train_data_loader):\n",
    "        with profiler.profile(enabled=False,\n",
    "                                use_cuda=True,\n",
    "                                profile_memory=True,\n",
    "                                record_shapes=True) as prof:\n",
    "            data = trainer.start_of_iteration(data, current_iteration)\n",
    "\n",
    "            for i in range(cfg.trainer.dis_step):\n",
    "                trainer.dis_update(\n",
    "                    slice_tensor(data, i * batch_size,\n",
    "                                    (i + 1) * batch_size))\n",
    "            for i in range(cfg.trainer.gen_step):\n",
    "                trainer.gen_update(\n",
    "                    slice_tensor(data, i * batch_size,\n",
    "                                    (i + 1) * batch_size))\n",
    "\n",
    "            current_iteration += 1\n",
    "            trainer.end_of_iteration(data, current_epoch, current_iteration)"
   ]
  }
 ],
 "metadata": {
  "kernelspec": {
   "display_name": "Python [conda env:conda-imaginaire]",
   "language": "python",
   "name": "conda-env-conda-imaginaire-py"
  },
  "language_info": {
   "codemirror_mode": {
    "name": "ipython",
    "version": 3
   },
   "file_extension": ".py",
   "mimetype": "text/x-python",
   "name": "python",
   "nbconvert_exporter": "python",
   "pygments_lexer": "ipython3",
   "version": "3.8.19"
  }
 },
 "nbformat": 4,
 "nbformat_minor": 5
}
